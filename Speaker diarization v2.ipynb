{
 "cells": [
  {
   "cell_type": "code",
   "execution_count": 1,
   "metadata": {
    "collapsed": true
   },
   "outputs": [],
   "source": [
    "import bnpy\n",
    "import numpy as np\n",
    "import util"
   ]
  },
  {
   "cell_type": "code",
   "execution_count": 2,
   "metadata": {},
   "outputs": [],
   "source": [
    "alloc_model = 'FiniteHMM'\n",
    "obs_model = 'Gauss'\n",
    "learn_alg = 'VB'\n",
    "K = 25\n",
    "\n",
    "kwargs = {'ECovMat': 'covdata', #'diagcovdata',\n",
    "          'sF': 0.5,\n",
    "          'nu': 21,\n",
    "          'MMat': 'zero',\n",
    "          'hmmKappa': 100}\n",
    "\n",
    "meeting_ids = [11] #[11, 16, 21]\n",
    "out_paths = ['experiments/tmp' for meeting_id in meeting_ids]\n",
    "dataset_titles = ['Meeting %d' % meeting_id for meeting_id in meeting_ids]"
   ]
  },
  {
   "cell_type": "markdown",
   "metadata": {},
   "source": [
    "# Load data"
   ]
  },
  {
   "cell_type": "code",
   "execution_count": 3,
   "metadata": {
    "collapsed": true
   },
   "outputs": [],
   "source": [
    "datasets = [util.load_speaker_data(i) for i in meeting_ids]"
   ]
  },
  {
   "cell_type": "markdown",
   "metadata": {},
   "source": [
    "# Run experiments"
   ]
  },
  {
   "cell_type": "code",
   "execution_count": 4,
   "metadata": {
    "scrolled": false
   },
   "outputs": [
    {
     "name": "stdout",
     "output_type": "stream",
     "text": [
      "Training dense model\n",
      "Dataset Summary:\n",
      "Pre-processed audio data from NIST file LDC_20011116-1400.mat (meeting 11 / 21)\n",
      "  size: 1 units (documents)\n",
      "  dimension: 19\n",
      "Allocation Model:  None\n",
      "Obs. Data  Model:  Gaussian with full covariance.\n",
      "Obs. Data  Prior:  Gauss-Wishart on mean and covar of each cluster\n",
      "  E[  mean[k] ] = \n",
      "   [ 0.  0.]  ...\n",
      "  E[ covar[k] ] = \n",
      "  [[ 11.34300136  -5.90605966]\n",
      "   [ -5.90605966  15.70292204]] ...\n",
      "Initialization:\n",
      "  initname = randexamples\n",
      "  K = 25 (number of clusters)\n",
      "  seed = 1607680\n",
      "  elapsed_time: 0.0 sec\n",
      "Learn Alg: VB | task  1/5 | alg. seed: 1607680 | data order seed: 8541952\n",
      "task_output_path: experiments/tmp/dense/1\n",
      "I am cpp ready\n"
     ]
    },
    {
     "ename": "ArgumentError",
     "evalue": "argument 6: <type 'exceptions.TypeError'>: wrong type",
     "output_type": "error",
     "traceback": [
      "\u001b[0;31m---------------------------------------------------------------------------\u001b[0m",
      "\u001b[0;31mArgumentError\u001b[0m                             Traceback (most recent call last)",
      "\u001b[0;32m<ipython-input-4-2c7b0776c932>\u001b[0m in \u001b[0;36m<module>\u001b[0;34m()\u001b[0m\n\u001b[1;32m      1\u001b[0m \u001b[0mexperiments\u001b[0m \u001b[0;34m=\u001b[0m \u001b[0;34m[\u001b[0m\u001b[0;34m]\u001b[0m\u001b[0;34m\u001b[0m\u001b[0m\n\u001b[1;32m      2\u001b[0m \u001b[0;32mfor\u001b[0m \u001b[0mmeeting_id\u001b[0m\u001b[0;34m,\u001b[0m \u001b[0mdataset\u001b[0m\u001b[0;34m,\u001b[0m \u001b[0mout_path\u001b[0m \u001b[0;32min\u001b[0m \u001b[0mzip\u001b[0m\u001b[0;34m(\u001b[0m\u001b[0mmeeting_ids\u001b[0m\u001b[0;34m,\u001b[0m \u001b[0mdatasets\u001b[0m\u001b[0;34m,\u001b[0m \u001b[0mout_paths\u001b[0m\u001b[0;34m)\u001b[0m\u001b[0;34m:\u001b[0m\u001b[0;34m\u001b[0m\u001b[0m\n\u001b[0;32m----> 3\u001b[0;31m     \u001b[0mexperiment_out\u001b[0m \u001b[0;34m=\u001b[0m \u001b[0mutil\u001b[0m\u001b[0;34m.\u001b[0m\u001b[0mrun_experiment\u001b[0m\u001b[0;34m(\u001b[0m\u001b[0mdataset\u001b[0m\u001b[0;34m,\u001b[0m \u001b[0malloc_model\u001b[0m\u001b[0;34m,\u001b[0m \u001b[0mobs_model\u001b[0m\u001b[0;34m,\u001b[0m \u001b[0mlearn_alg\u001b[0m\u001b[0;34m,\u001b[0m \u001b[0mK\u001b[0m\u001b[0;34m,\u001b[0m \u001b[0mout_path\u001b[0m\u001b[0;34m,\u001b[0m \u001b[0;34m**\u001b[0m\u001b[0mkwargs\u001b[0m\u001b[0;34m)\u001b[0m\u001b[0;34m\u001b[0m\u001b[0m\n\u001b[0m\u001b[1;32m      4\u001b[0m     \u001b[0mexperiments\u001b[0m\u001b[0;34m.\u001b[0m\u001b[0mappend\u001b[0m\u001b[0;34m(\u001b[0m\u001b[0mexperiment_out\u001b[0m\u001b[0;34m)\u001b[0m\u001b[0;34m\u001b[0m\u001b[0m\n",
      "\u001b[0;32m/Users/debora/Projects/bnpy/util.pyc\u001b[0m in \u001b[0;36mrun_experiment\u001b[0;34m(dataset, alloc_model, obs_model, alg, K, out_path, min_L, max_L, n_task, tol, max_laps, save, **kwargs)\u001b[0m\n\u001b[1;32m    230\u001b[0m                                        \u001b[0mK\u001b[0m\u001b[0;34m=\u001b[0m\u001b[0mK\u001b[0m\u001b[0;34m,\u001b[0m \u001b[0moutput_path\u001b[0m\u001b[0;34m=\u001b[0m\u001b[0mdense_path\u001b[0m\u001b[0;34m,\u001b[0m\u001b[0;34m\u001b[0m\u001b[0m\n\u001b[1;32m    231\u001b[0m                                        \u001b[0mconvergeThr\u001b[0m\u001b[0;34m=\u001b[0m\u001b[0mtol\u001b[0m\u001b[0;34m,\u001b[0m \u001b[0mnLap\u001b[0m\u001b[0;34m=\u001b[0m\u001b[0mmax_laps\u001b[0m\u001b[0;34m,\u001b[0m\u001b[0;34m\u001b[0m\u001b[0m\n\u001b[0;32m--> 232\u001b[0;31m                                        printEvery=25, nTask=n_task, **kwargs)\n\u001b[0m\u001b[1;32m    233\u001b[0m     \u001b[0mdense_label\u001b[0m \u001b[0;34m=\u001b[0m \u001b[0;34m'Dense %s %s'\u001b[0m \u001b[0;34m%\u001b[0m \u001b[0;34m(\u001b[0m\u001b[0mobs_model\u001b[0m\u001b[0;34m,\u001b[0m \u001b[0malg\u001b[0m\u001b[0;34m)\u001b[0m\u001b[0;34m\u001b[0m\u001b[0m\n\u001b[1;32m    234\u001b[0m     \u001b[0mtaskid\u001b[0m \u001b[0;34m=\u001b[0m \u001b[0mdense_dict\u001b[0m\u001b[0;34m[\u001b[0m\u001b[0;34m'taskid'\u001b[0m\u001b[0;34m]\u001b[0m\u001b[0;34m\u001b[0m\u001b[0m\n",
      "\u001b[0;32m/Users/debora/Projects/bnpy/bnpy/Run.pyc\u001b[0m in \u001b[0;36mrun\u001b[0;34m(dataName, allocModelName, obsModelName, algName, doSaveToDisk, doWriteStdOut, taskID, **kwargs)\u001b[0m\n\u001b[1;32m     92\u001b[0m             \u001b[0mdataName\u001b[0m\u001b[0;34m,\u001b[0m \u001b[0mallocModelName\u001b[0m\u001b[0;34m,\u001b[0m\u001b[0;34m\u001b[0m\u001b[0m\n\u001b[1;32m     93\u001b[0m             \u001b[0mobsModelName\u001b[0m\u001b[0;34m,\u001b[0m \u001b[0malgName\u001b[0m\u001b[0;34m,\u001b[0m\u001b[0;34m\u001b[0m\u001b[0m\n\u001b[0;32m---> 94\u001b[0;31m             doSaveToDisk, doWriteStdOut)\n\u001b[0m\u001b[1;32m     95\u001b[0m         \u001b[0;32mif\u001b[0m \u001b[0;34m(\u001b[0m\u001b[0mtaskid\u001b[0m \u001b[0;34m==\u001b[0m \u001b[0mstarttaskid\u001b[0m \u001b[0;32mor\u001b[0m \u001b[0minfo_dict\u001b[0m\u001b[0;34m[\u001b[0m\u001b[0;34m'loss'\u001b[0m\u001b[0;34m]\u001b[0m \u001b[0;34m<\u001b[0m \u001b[0mbest_loss\u001b[0m\u001b[0;34m)\u001b[0m\u001b[0;34m:\u001b[0m\u001b[0;34m\u001b[0m\u001b[0m\n\u001b[1;32m     96\u001b[0m             \u001b[0mbestModel\u001b[0m \u001b[0;34m=\u001b[0m \u001b[0mhmodel\u001b[0m\u001b[0;34m\u001b[0m\u001b[0m\n",
      "\u001b[0;32m/Users/debora/Projects/bnpy/bnpy/Run.pyc\u001b[0m in \u001b[0;36m_run_task_internal\u001b[0;34m(jobname, taskid, nTask, ReqArgs, KwArgs, UnkArgs, dataName, allocModelName, obsModelName, algName, doSaveToDisk, doWriteStdOut)\u001b[0m\n\u001b[1;32m    222\u001b[0m \u001b[0;34m\u001b[0m\u001b[0m\n\u001b[1;32m    223\u001b[0m     \u001b[0;31m# Fit the model to the data!\u001b[0m\u001b[0;34m\u001b[0m\u001b[0;34m\u001b[0m\u001b[0m\n\u001b[0;32m--> 224\u001b[0;31m     \u001b[0mRunInfo\u001b[0m \u001b[0;34m=\u001b[0m \u001b[0mlearnAlg\u001b[0m\u001b[0;34m.\u001b[0m\u001b[0mfit\u001b[0m\u001b[0;34m(\u001b[0m\u001b[0mhmodel\u001b[0m\u001b[0;34m,\u001b[0m \u001b[0mData\u001b[0m\u001b[0;34m)\u001b[0m\u001b[0;34m\u001b[0m\u001b[0m\n\u001b[0m\u001b[1;32m    225\u001b[0m     \u001b[0mRunInfo\u001b[0m\u001b[0;34m[\u001b[0m\u001b[0;34m'UnkArgs'\u001b[0m\u001b[0;34m]\u001b[0m \u001b[0;34m=\u001b[0m \u001b[0mUnkArgs\u001b[0m\u001b[0;34m\u001b[0m\u001b[0m\n\u001b[1;32m    226\u001b[0m     \u001b[0mRunInfo\u001b[0m\u001b[0;34m[\u001b[0m\u001b[0;34m'KwArgs'\u001b[0m\u001b[0;34m]\u001b[0m \u001b[0;34m=\u001b[0m \u001b[0mKwArgs\u001b[0m\u001b[0;34m\u001b[0m\u001b[0m\n",
      "\u001b[0;32m/Users/debora/Projects/bnpy/bnpy/learnalg/VBAlg.pyc\u001b[0m in \u001b[0;36mfit\u001b[0;34m(self, hmodel, Data, LP)\u001b[0m\n\u001b[1;32m     45\u001b[0m             \u001b[0mself\u001b[0m\u001b[0;34m.\u001b[0m\u001b[0malgParamsLP\u001b[0m\u001b[0;34m[\u001b[0m\u001b[0;34m'lapFrac'\u001b[0m\u001b[0;34m]\u001b[0m \u001b[0;34m=\u001b[0m \u001b[0mlap\u001b[0m  \u001b[0;31m# logging\u001b[0m\u001b[0;34m\u001b[0m\u001b[0m\n\u001b[1;32m     46\u001b[0m             \u001b[0mself\u001b[0m\u001b[0;34m.\u001b[0m\u001b[0malgParamsLP\u001b[0m\u001b[0;34m[\u001b[0m\u001b[0;34m'batchID'\u001b[0m\u001b[0;34m]\u001b[0m \u001b[0;34m=\u001b[0m \u001b[0;36m1\u001b[0m\u001b[0;34m\u001b[0m\u001b[0m\n\u001b[0;32m---> 47\u001b[0;31m             \u001b[0mLP\u001b[0m \u001b[0;34m=\u001b[0m \u001b[0mhmodel\u001b[0m\u001b[0;34m.\u001b[0m\u001b[0mcalc_local_params\u001b[0m\u001b[0;34m(\u001b[0m\u001b[0mData\u001b[0m\u001b[0;34m,\u001b[0m \u001b[0mLP\u001b[0m\u001b[0;34m,\u001b[0m \u001b[0;34m**\u001b[0m\u001b[0mself\u001b[0m\u001b[0;34m.\u001b[0m\u001b[0malgParamsLP\u001b[0m\u001b[0;34m)\u001b[0m\u001b[0;34m\u001b[0m\u001b[0m\n\u001b[0m\u001b[1;32m     48\u001b[0m \u001b[0;34m\u001b[0m\u001b[0m\n\u001b[1;32m     49\u001b[0m             \u001b[0;31m# Summary step\u001b[0m\u001b[0;34m\u001b[0m\u001b[0;34m\u001b[0m\u001b[0m\n",
      "\u001b[0;32m/Users/debora/Projects/bnpy/bnpy/HModel.pyc\u001b[0m in \u001b[0;36mcalc_local_params\u001b[0;34m(self, Data, LP, doLogElapsedTime, **kwargs)\u001b[0m\n\u001b[1;32m     78\u001b[0m         \u001b[0;31m# Combine with allocModel probs of each cluster\u001b[0m\u001b[0;34m\u001b[0m\u001b[0;34m\u001b[0m\u001b[0m\n\u001b[1;32m     79\u001b[0m         \u001b[0;31m# Fills in LP['resp'], N x K array whose rows sum to one\u001b[0m\u001b[0;34m\u001b[0m\u001b[0;34m\u001b[0m\u001b[0m\n\u001b[0;32m---> 80\u001b[0;31m         \u001b[0mLP\u001b[0m \u001b[0;34m=\u001b[0m \u001b[0mself\u001b[0m\u001b[0;34m.\u001b[0m\u001b[0mallocModel\u001b[0m\u001b[0;34m.\u001b[0m\u001b[0mcalc_local_params\u001b[0m\u001b[0;34m(\u001b[0m\u001b[0mData\u001b[0m\u001b[0;34m,\u001b[0m \u001b[0mLP\u001b[0m\u001b[0;34m,\u001b[0m \u001b[0;34m**\u001b[0m\u001b[0mkwargs\u001b[0m\u001b[0;34m)\u001b[0m\u001b[0;34m\u001b[0m\u001b[0m\n\u001b[0m\u001b[1;32m     81\u001b[0m         \u001b[0;32mif\u001b[0m \u001b[0mdoLogElapsedTime\u001b[0m\u001b[0;34m:\u001b[0m\u001b[0;34m\u001b[0m\u001b[0m\n\u001b[1;32m     82\u001b[0m             \u001b[0mElapsedTimeLogger\u001b[0m\u001b[0;34m.\u001b[0m\u001b[0mstopEvent\u001b[0m\u001b[0;34m(\u001b[0m\u001b[0;34m'local'\u001b[0m\u001b[0;34m,\u001b[0m \u001b[0;34m'allocupdate'\u001b[0m\u001b[0;34m)\u001b[0m\u001b[0;34m\u001b[0m\u001b[0m\n",
      "\u001b[0;32m/Users/debora/Projects/bnpy/bnpy/allocmodel/hmm/FiniteHMM.pyc\u001b[0m in \u001b[0;36mcalc_local_params\u001b[0;34m(self, Data, LP, nnzPerRowLP, blockedLP, **kwargs)\u001b[0m\n\u001b[1;32m    161\u001b[0m             \u001b[0mseqResp\u001b[0m\u001b[0;34m,\u001b[0m \u001b[0mseqRespPair\u001b[0m\u001b[0;34m,\u001b[0m \u001b[0mseqLogMargPr\u001b[0m \u001b[0;34m=\u001b[0m\u001b[0;31m \u001b[0m\u001b[0;31m\\\u001b[0m\u001b[0;34m\u001b[0m\u001b[0m\n\u001b[1;32m    162\u001b[0m                 HMMUtil.FwdBwdAlg(initParam, transParam, logSoftEv_n,\n\u001b[0;32m--> 163\u001b[0;31m                 \t              nnzPerRowLP, blocked=blockedLP)\n\u001b[0m\u001b[1;32m    164\u001b[0m \u001b[0;34m\u001b[0m\u001b[0m\n\u001b[1;32m    165\u001b[0m             \u001b[0mresp\u001b[0m\u001b[0;34m[\u001b[0m\u001b[0mstart\u001b[0m\u001b[0;34m:\u001b[0m\u001b[0mstop\u001b[0m\u001b[0;34m]\u001b[0m \u001b[0;34m=\u001b[0m \u001b[0mseqResp\u001b[0m\u001b[0;34m\u001b[0m\u001b[0m\n",
      "\u001b[0;32m/Users/debora/Projects/bnpy/bnpy/allocmodel/hmm/HMMUtil_mar6.pyc\u001b[0m in \u001b[0;36mFwdBwdAlg\u001b[0;34m(PiInit, PiMat, logSoftEv, nnzPerRowLP, blocked)\u001b[0m\n\u001b[1;32m    186\u001b[0m         \u001b[0mfmsg\u001b[0m\u001b[0;34m,\u001b[0m \u001b[0mmargPrObs\u001b[0m\u001b[0;34m,\u001b[0m \u001b[0mtop_colids\u001b[0m \u001b[0;34m=\u001b[0m \u001b[0mBlockedFwdAlg\u001b[0m\u001b[0;34m(\u001b[0m\u001b[0mPiInit\u001b[0m\u001b[0;34m,\u001b[0m \u001b[0mPiMat\u001b[0m\u001b[0;34m,\u001b[0m \u001b[0mSoftEv\u001b[0m\u001b[0;34m,\u001b[0m \u001b[0mnnzPerRowLP\u001b[0m\u001b[0;34m,\u001b[0m \u001b[0mbmsg\u001b[0m\u001b[0;34m)\u001b[0m\u001b[0;34m\u001b[0m\u001b[0m\n\u001b[1;32m    187\u001b[0m     \u001b[0;32melse\u001b[0m\u001b[0;34m:\u001b[0m\u001b[0;34m\u001b[0m\u001b[0m\n\u001b[0;32m--> 188\u001b[0;31m         \u001b[0mfmsg\u001b[0m\u001b[0;34m,\u001b[0m \u001b[0mmargPrObs\u001b[0m\u001b[0;34m,\u001b[0m \u001b[0mtop_colids\u001b[0m \u001b[0;34m=\u001b[0m \u001b[0mFwdAlg\u001b[0m\u001b[0;34m(\u001b[0m\u001b[0mPiInit\u001b[0m\u001b[0;34m,\u001b[0m \u001b[0mPiMat\u001b[0m\u001b[0;34m,\u001b[0m \u001b[0mSoftEv\u001b[0m\u001b[0;34m,\u001b[0m \u001b[0mnnzPerRowLP\u001b[0m\u001b[0;34m)\u001b[0m\u001b[0;34m\u001b[0m\u001b[0m\n\u001b[0m\u001b[1;32m    189\u001b[0m     \u001b[0;32mif\u001b[0m \u001b[0;32mnot\u001b[0m \u001b[0mnp\u001b[0m\u001b[0;34m.\u001b[0m\u001b[0mall\u001b[0m\u001b[0;34m(\u001b[0m\u001b[0mnp\u001b[0m\u001b[0;34m.\u001b[0m\u001b[0misfinite\u001b[0m\u001b[0;34m(\u001b[0m\u001b[0mmargPrObs\u001b[0m\u001b[0;34m)\u001b[0m\u001b[0;34m)\u001b[0m\u001b[0;34m:\u001b[0m\u001b[0;34m\u001b[0m\u001b[0m\n\u001b[1;32m    190\u001b[0m         \u001b[0;32mraise\u001b[0m \u001b[0mValueError\u001b[0m\u001b[0;34m(\u001b[0m\u001b[0;34m'NaN values found. Numerical badness!'\u001b[0m\u001b[0;34m)\u001b[0m\u001b[0;34m\u001b[0m\u001b[0m\n",
      "\u001b[0;32m/Users/debora/Projects/bnpy/bnpy/allocmodel/hmm/HMMUtil_mar6.pyc\u001b[0m in \u001b[0;36mFwdAlg\u001b[0;34m(PiInit, PiMat, SoftEv, nnzPerRowLP)\u001b[0m\n\u001b[1;32m    356\u001b[0m     \u001b[0;32mif\u001b[0m \u001b[0mcppReady\u001b[0m\u001b[0;34m(\u001b[0m\u001b[0;34m)\u001b[0m \u001b[0;32mand\u001b[0m \u001b[0mPlatformConfig\u001b[0m\u001b[0;34m[\u001b[0m\u001b[0;34m'FwdBwdImpl'\u001b[0m\u001b[0;34m]\u001b[0m \u001b[0;34m==\u001b[0m \u001b[0;34m\"cpp\"\u001b[0m \u001b[0;32mand\u001b[0m \u001b[0mnnzPerRowLP\u001b[0m \u001b[0;34m!=\u001b[0m \u001b[0;36m1\u001b[0m\u001b[0;34m:\u001b[0m\u001b[0;34m\u001b[0m\u001b[0m\n\u001b[1;32m    357\u001b[0m         \u001b[0;32mprint\u001b[0m \u001b[0;34m'I am cpp ready'\u001b[0m\u001b[0;34m\u001b[0m\u001b[0m\n\u001b[0;32m--> 358\u001b[0;31m         \u001b[0;32mreturn\u001b[0m \u001b[0mFwdAlg_cpp\u001b[0m\u001b[0;34m(\u001b[0m\u001b[0mPiInit\u001b[0m\u001b[0;34m,\u001b[0m \u001b[0mPiMat\u001b[0m\u001b[0;34m,\u001b[0m \u001b[0mSoftEv\u001b[0m\u001b[0;34m,\u001b[0m \u001b[0mnnzPerRowLP\u001b[0m\u001b[0;34m)\u001b[0m\u001b[0;34m\u001b[0m\u001b[0m\n\u001b[0m\u001b[1;32m    359\u001b[0m     \u001b[0;32melse\u001b[0m\u001b[0;34m:\u001b[0m\u001b[0;34m\u001b[0m\u001b[0m\n\u001b[1;32m    360\u001b[0m         \u001b[0;32mreturn\u001b[0m \u001b[0mFwdAlg_py\u001b[0m\u001b[0;34m(\u001b[0m\u001b[0mPiInit\u001b[0m\u001b[0;34m,\u001b[0m \u001b[0mPiMat\u001b[0m\u001b[0;34m,\u001b[0m \u001b[0mSoftEv\u001b[0m\u001b[0;34m,\u001b[0m \u001b[0mnnzPerRowLP\u001b[0m\u001b[0;34m)\u001b[0m\u001b[0;34m\u001b[0m\u001b[0m\n",
      "\u001b[0;32m/Users/debora/Projects/bnpy/bnpy/allocmodel/hmm/lib/LibFwdBwd.py\u001b[0m in \u001b[0;36mFwdAlg_cpp\u001b[0;34m(initPi, transPi, SoftEv, nnzPerRowLP, order)\u001b[0m\n\u001b[1;32m     31\u001b[0m \u001b[0;34m\u001b[0m\u001b[0m\n\u001b[1;32m     32\u001b[0m     \u001b[0;31m# Execute C++ code (fills in outputs in-place)\u001b[0m\u001b[0;34m\u001b[0m\u001b[0;34m\u001b[0m\u001b[0m\n\u001b[0;32m---> 33\u001b[0;31m     \u001b[0mlib\u001b[0m\u001b[0;34m.\u001b[0m\u001b[0mFwdAlg\u001b[0m\u001b[0;34m(\u001b[0m\u001b[0minitPi\u001b[0m\u001b[0;34m,\u001b[0m \u001b[0mtransPi\u001b[0m\u001b[0;34m,\u001b[0m \u001b[0mSoftEv\u001b[0m\u001b[0;34m,\u001b[0m \u001b[0mfwdMsg\u001b[0m\u001b[0;34m,\u001b[0m \u001b[0mmargPrObs\u001b[0m\u001b[0;34m,\u001b[0m \u001b[0mtop_colids\u001b[0m\u001b[0;34m,\u001b[0m \u001b[0mK\u001b[0m\u001b[0;34m,\u001b[0m \u001b[0mT\u001b[0m\u001b[0;34m,\u001b[0m \u001b[0mnnzPerRowLP\u001b[0m\u001b[0;34m)\u001b[0m\u001b[0;34m\u001b[0m\u001b[0m\n\u001b[0m\u001b[1;32m     34\u001b[0m     \u001b[0;32mreturn\u001b[0m \u001b[0mfwdMsg\u001b[0m\u001b[0;34m,\u001b[0m \u001b[0mmargPrObs\u001b[0m\u001b[0;34m\u001b[0m\u001b[0m\n\u001b[1;32m     35\u001b[0m \u001b[0;34m\u001b[0m\u001b[0m\n",
      "\u001b[0;31mArgumentError\u001b[0m: argument 6: <type 'exceptions.TypeError'>: wrong type"
     ]
    }
   ],
   "source": [
    "experiments = []\n",
    "for meeting_id, dataset, out_path in zip(meeting_ids, datasets, out_paths):\n",
    "    experiment_out = util.run_experiment(dataset, alloc_model, obs_model, learn_alg, K, out_path, **kwargs)\n",
    "    experiments.append(experiment_out)"
   ]
  },
  {
   "cell_type": "markdown",
   "metadata": {},
   "source": [
    "# Plot results"
   ]
  },
  {
   "cell_type": "code",
   "execution_count": null,
   "metadata": {},
   "outputs": [],
   "source": [
    "# Load results if necessary\n",
    "try:\n",
    "    experiments\n",
    "except NameError:\n",
    "    experiments = [util.load_experiment(out_path) for out_path in out_paths]\n",
    "\n",
    "meeting_key = {meeting_id: i for i, meeting_id in enumerate(meeting_ids)}\n",
    "def plot_results(meeting_id, ymin_loss=None, ymax_loss=None, ymin_ham=None, ymax_ham=None):\n",
    "    idx = meeting_key[meeting_id]\n",
    "    experiment = experiments[idx]\n",
    "    title = dataset_titles[idx]\n",
    "    \n",
    "    util.plot_loss(experiment, title, ymin=ymin_loss, ymax=ymax_loss)\n",
    "    util.plot_hamming(experiment, title, ymin=ymin_ham, ymax=ymax_ham)"
   ]
  },
  {
   "cell_type": "markdown",
   "metadata": {},
   "source": [
    "## Meeting 11"
   ]
  },
  {
   "cell_type": "code",
   "execution_count": null,
   "metadata": {
    "scrolled": false
   },
   "outputs": [],
   "source": [
    "plot_results(11) #, ymax_loss=2.7, ymax_ham=0.75"
   ]
  },
  {
   "cell_type": "markdown",
   "metadata": {},
   "source": [
    "## Meeting 16"
   ]
  },
  {
   "cell_type": "code",
   "execution_count": null,
   "metadata": {
    "scrolled": false
   },
   "outputs": [],
   "source": [
    "plot_results(16)"
   ]
  },
  {
   "cell_type": "markdown",
   "metadata": {},
   "source": [
    "## Meeting 21"
   ]
  },
  {
   "cell_type": "code",
   "execution_count": null,
   "metadata": {
    "scrolled": false
   },
   "outputs": [],
   "source": [
    "plot_results(21)"
   ]
  },
  {
   "cell_type": "code",
   "execution_count": null,
   "metadata": {
    "collapsed": true
   },
   "outputs": [],
   "source": []
  }
 ],
 "metadata": {
  "kernelspec": {
   "display_name": "Python 2",
   "language": "python",
   "name": "python2"
  },
  "language_info": {
   "codemirror_mode": {
    "name": "ipython",
    "version": 2
   },
   "file_extension": ".py",
   "mimetype": "text/x-python",
   "name": "python",
   "nbconvert_exporter": "python",
   "pygments_lexer": "ipython2",
   "version": "2.7.13"
  }
 },
 "nbformat": 4,
 "nbformat_minor": 2
}

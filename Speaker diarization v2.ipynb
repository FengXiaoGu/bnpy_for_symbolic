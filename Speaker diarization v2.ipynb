{
 "cells": [
  {
   "cell_type": "code",
   "execution_count": 1,
   "metadata": {
    "collapsed": true
   },
   "outputs": [],
   "source": [
    "import bnpy\n",
    "import numpy as np\n",
    "import util"
   ]
  },
  {
   "cell_type": "code",
   "execution_count": 2,
   "metadata": {
    "collapsed": true
   },
   "outputs": [],
   "source": [
    "alloc_model = 'FiniteHMM'\n",
    "obs_model = 'Gauss'\n",
    "learn_alg = 'VB'\n",
    "\n",
    "meeting_ids = [11] #[11, 16, 21]\n",
    "out_paths = ['experiments/speaker%d' % meeting_id for meeting_id in meeting_ids]\n",
    "dataset_titles = ['Meeting %d' % meeting_id for meeting_id in meeting_ids]"
   ]
  },
  {
   "cell_type": "markdown",
   "metadata": {},
   "source": [
    "# Load data"
   ]
  },
  {
   "cell_type": "code",
   "execution_count": null,
   "metadata": {
    "collapsed": true
   },
   "outputs": [],
   "source": [
    "datasets = [util.load_speaker_data(i) for i in meeting_ids]"
   ]
  },
  {
   "cell_type": "markdown",
   "metadata": {},
   "source": [
    "# Run experiments"
   ]
  },
  {
   "cell_type": "code",
   "execution_count": null,
   "metadata": {
    "collapsed": true
   },
   "outputs": [],
   "source": [
    "kwargs = {'ECovMat': 'diagcovdata',\n",
    "          'sF': 0.5,\n",
    "          'nu': 50,\n",
    "          'MMat': 'zero'}"
   ]
  },
  {
   "cell_type": "code",
   "execution_count": null,
   "metadata": {},
   "outputs": [],
   "source": [
    "K = 25\n",
    "\n",
    "experiments = []\n",
    "for meeting_id, dataset, out_path in zip(meeting_ids, datasets, out_paths):\n",
    "    experiment_out = util.run_experiment(dataset, alloc_model, obs_model, learn_alg, K, out_path)\n",
    "    experiments.append(experiment_out)"
   ]
  },
  {
   "cell_type": "markdown",
   "metadata": {},
   "source": [
    "# Plot results"
   ]
  },
  {
   "cell_type": "code",
   "execution_count": null,
   "metadata": {
    "collapsed": true
   },
   "outputs": [],
   "source": [
    "# Load results if necessary\n",
    "try:\n",
    "    experiments\n",
    "except NameError:\n",
    "    experiments = [util.load_experiment(out_path) for out_path in out_paths]\n",
    "\n",
    "meeting_key = {meeting_id: i for i, meeting_id in enumerate(meeting_ids)}\n",
    "def plot_results(meeting_id, ymin_loss=None, ymax_loss=None, ymin_ham=None, ymax_ham=None):\n",
    "    idx = meeting_key[meeting_id]\n",
    "    experiment = experiments[idx]\n",
    "    title = dataset_titles[idx]\n",
    "    \n",
    "    util.plot_loss(experiment, title, ymin=ymin_loss, ymax=ymax_loss)\n",
    "    util.plot_hamming(experiment, title, ymin=ymin_ham, ymax=ymax_ham)"
   ]
  },
  {
   "cell_type": "markdown",
   "metadata": {},
   "source": [
    "## Meeting 11"
   ]
  },
  {
   "cell_type": "code",
   "execution_count": null,
   "metadata": {
    "collapsed": true,
    "scrolled": false
   },
   "outputs": [],
   "source": [
    "plot_results(11, ymax_loss=2.96, ymax_ham=0.75)"
   ]
  },
  {
   "cell_type": "markdown",
   "metadata": {},
   "source": [
    "## Meeting 16"
   ]
  },
  {
   "cell_type": "code",
   "execution_count": null,
   "metadata": {
    "scrolled": false
   },
   "outputs": [],
   "source": [
    "plot_results(16, ymax_loss=2.85, ymax_ham=0.66)"
   ]
  },
  {
   "cell_type": "markdown",
   "metadata": {},
   "source": [
    "## Meeting 21"
   ]
  },
  {
   "cell_type": "code",
   "execution_count": null,
   "metadata": {
    "scrolled": false
   },
   "outputs": [],
   "source": [
    "plot_results(21, ymax_loss=2.60, ymax_ham=0.76)"
   ]
  },
  {
   "cell_type": "code",
   "execution_count": null,
   "metadata": {
    "collapsed": true
   },
   "outputs": [],
   "source": []
  }
 ],
 "metadata": {
  "kernelspec": {
   "display_name": "Python 2",
   "language": "python",
   "name": "python2"
  },
  "language_info": {
   "codemirror_mode": {
    "name": "ipython",
    "version": 2
   },
   "file_extension": ".py",
   "mimetype": "text/x-python",
   "name": "python",
   "nbconvert_exporter": "python",
   "pygments_lexer": "ipython2",
   "version": "2.7.13"
  }
 },
 "nbformat": 4,
 "nbformat_minor": 2
}

{
 "cells": [
  {
   "cell_type": "code",
   "execution_count": 1,
   "metadata": {
    "collapsed": true
   },
   "outputs": [],
   "source": [
    "import bnpy\n",
    "import numpy as np\n",
    "import os\n",
    "\n",
    "import matplotlib\n",
    "from matplotlib import pylab\n",
    "import seaborn as sns\n",
    "%matplotlib inline\n",
    "\n",
    "np.set_printoptions(suppress=1, precision=3)\n",
    "\n",
    "FIG_SIZE = (10, 5)\n",
    "pylab.rcParams['figure.figsize'] = FIG_SIZE"
   ]
  },
  {
   "cell_type": "code",
   "execution_count": 2,
   "metadata": {
    "collapsed": true
   },
   "outputs": [],
   "source": [
    "dataset_path = os.path.join(bnpy.DATASET_PATH, 'mocap6', 'dataset.npz')\n",
    "\n",
    "dataset = bnpy.data.GroupXData.read_npz(dataset_path)\n",
    "dataset_biasfeature = bnpy.data.GroupXData(\n",
    "    X=dataset.X,\n",
    "    Xprev=np.hstack([dataset.Xprev, np.ones((dataset.X.shape[0], 1))]),\n",
    "    doc_range=dataset.doc_range)"
   ]
  },
  {
   "cell_type": "code",
   "execution_count": null,
   "metadata": {},
   "outputs": [],
   "source": [
    "dataset_path"
   ]
  },
  {
   "cell_type": "code",
   "execution_count": null,
   "metadata": {
    "collapsed": true
   },
   "outputs": [],
   "source": [
    "start = dataset.doc_range[0]\n",
    "stop = dataset.doc_range[1]\n",
    "print start, stop"
   ]
  },
  {
   "cell_type": "code",
   "execution_count": null,
   "metadata": {
    "collapsed": true
   },
   "outputs": [],
   "source": [
    "X_seq = dataset.X[start:stop]\n",
    "print X_seq.shape # (T, D)"
   ]
  },
  {
   "cell_type": "code",
   "execution_count": null,
   "metadata": {
    "collapsed": true
   },
   "outputs": [],
   "source": [
    "print task_output_path"
   ]
  },
  {
   "cell_type": "code",
   "execution_count": null,
   "metadata": {
    "collapsed": true
   },
   "outputs": [],
   "source": [
    "def show_single_sequence(\n",
    "        seq_id,\n",
    "        zhat_T=None,\n",
    "        z_img_cmap=None,\n",
    "        ylim=[-120, 120],\n",
    "        K=5,\n",
    "        left=0.2, bottom=0.2, right=0.8, top=0.95):\n",
    "    if z_img_cmap is None:\n",
    "        z_img_cmap = matplotlib.cm.get_cmap('Set1', K)\n",
    "\n",
    "    if zhat_T is None:\n",
    "        nrows = 1\n",
    "    else:\n",
    "        nrows = 2\n",
    "    fig_h, ax_handles = pylab.subplots(\n",
    "        nrows=nrows, ncols=1, sharex=True, sharey=False)\n",
    "    ax_handles = np.atleast_1d(ax_handles).flatten().tolist()\n",
    "\n",
    "    start = dataset.doc_range[seq_id]\n",
    "    stop = dataset.doc_range[seq_id + 1]\n",
    "    # Extract current sequence\n",
    "    # as a 2D array : T x D (n_timesteps x n_dims)\n",
    "    curX_TD = dataset.X[start:stop]\n",
    "    for dim in xrange(12):\n",
    "        ax_handles[0].plot(curX_TD[:, dim], '.-')\n",
    "    ax_handles[0].set_ylabel('angle')\n",
    "    ax_handles[0].set_ylim(ylim)\n",
    "    z_img_height = int(np.ceil(ylim[1] - ylim[0]))\n",
    "    pylab.subplots_adjust(\n",
    "        wspace=0.1,\n",
    "        hspace=0.1,\n",
    "        left=left, right=right,\n",
    "        bottom=bottom, top=top)\n",
    "    if zhat_T is not None:\n",
    "        img_TD = np.tile(zhat_T, (z_img_height, 1))\n",
    "        ax_handles[1].imshow(\n",
    "            img_TD,\n",
    "            interpolation='nearest',\n",
    "            vmin=-0.5, vmax=(K-1)+0.5,\n",
    "            cmap=z_img_cmap)\n",
    "        ax_handles[1].set_ylim(0, z_img_height)\n",
    "        ax_handles[1].set_yticks([])\n",
    "\n",
    "        bbox = ax_handles[1].get_position()\n",
    "        width = (1.0 - bbox.x1) / 3\n",
    "        height = bbox.y1 - bbox.y0\n",
    "        cax = fig_h.add_axes([right + 0.01, bottom, width, height])\n",
    "        cbax_h = fig_h.colorbar(\n",
    "            ax_handles[1].images[0], cax=cax, orientation='vertical')\n",
    "        cbax_h.set_ticks(np.arange(K))\n",
    "        cbax_h.set_ticklabels(np.arange(K))\n",
    "        cbax_h.ax.tick_params(labelsize=9)\n",
    "\n",
    "    ax_handles[-1].set_xlabel('time')\n",
    "    return ax_handles"
   ]
  },
  {
   "cell_type": "code",
   "execution_count": null,
   "metadata": {
    "collapsed": true
   },
   "outputs": [],
   "source": [
    "show_single_sequence(0)"
   ]
  },
  {
   "cell_type": "code",
   "execution_count": 3,
   "metadata": {},
   "outputs": [
    {
     "name": "stdout",
     "output_type": "stream",
     "text": [
      "Dataset Summary:\n",
      "GroupXData\n",
      "  size: 6 units (documents)\n",
      "  dimension: 12\n",
      "Allocation Model:  None\n",
      "Obs. Data  Model:  Auto-Regressive Gaussian with full covariance.\n",
      "Obs. Data  Prior:  MatrixNormal-Wishart on each mean/prec matrix pair: A, Lam\n",
      "  E[ A ] = \n",
      "  [[ 1.  0.]\n",
      "   [ 0.  1.]] ...\n",
      "  E[ Sigma ] = \n",
      "  [[ 1.  0.]\n",
      "   [ 0.  1.]] ...\n",
      "Initialization:\n",
      "  initname = randexamples\n",
      "  K = 5 (number of clusters)\n",
      "  seed = 1607680\n",
      "  elapsed_time: 0.3 sec\n",
      "Learn Alg: EM | task  1/1 | alg. seed: 1607680 | data order seed: 8541952\n",
      "task_output_path: /tmp/mocap6/bias0-K=5-model=HMM+AutoRegGauss-ECovMat=1*eye/1\n",
      "here\n"
     ]
    },
    {
     "ename": "ValueError",
     "evalue": "kth(=5) out of bounds (5)",
     "output_type": "error",
     "traceback": [
      "\u001b[0;31m---------------------------------------------------------------------------\u001b[0m",
      "\u001b[0;31mValueError\u001b[0m                                Traceback (most recent call last)",
      "\u001b[0;32m<ipython-input-3-3f9289f22738>\u001b[0m in \u001b[0;36m<module>\u001b[0;34m()\u001b[0m\n\u001b[1;32m     22\u001b[0m     \u001b[0msF\u001b[0m\u001b[0;34m=\u001b[0m\u001b[0msF\u001b[0m\u001b[0;34m,\u001b[0m \u001b[0mECovMat\u001b[0m\u001b[0;34m=\u001b[0m\u001b[0mECovMat\u001b[0m\u001b[0;34m,\u001b[0m \u001b[0mMMat\u001b[0m\u001b[0;34m=\u001b[0m\u001b[0;34m'eye'\u001b[0m\u001b[0;34m,\u001b[0m\u001b[0;34m\u001b[0m\u001b[0m\n\u001b[1;32m     23\u001b[0m     \u001b[0mK\u001b[0m\u001b[0;34m=\u001b[0m\u001b[0mK\u001b[0m\u001b[0;34m,\u001b[0m \u001b[0minitname\u001b[0m\u001b[0;34m=\u001b[0m\u001b[0;34m'randexamples'\u001b[0m\u001b[0;34m,\u001b[0m\u001b[0;34m\u001b[0m\u001b[0m\n\u001b[0;32m---> 24\u001b[0;31m     \u001b[0mprintEvery\u001b[0m\u001b[0;34m=\u001b[0m\u001b[0;36m25\u001b[0m\u001b[0;34m,\u001b[0m\u001b[0;34m\u001b[0m\u001b[0m\n\u001b[0m\u001b[1;32m     25\u001b[0m     )\n",
      "\u001b[0;32m/Users/debora/Projects/bnpy/bnpy/Run.pyc\u001b[0m in \u001b[0;36mrun\u001b[0;34m(dataName, allocModelName, obsModelName, algName, doSaveToDisk, doWriteStdOut, taskID, **kwargs)\u001b[0m\n\u001b[1;32m     92\u001b[0m             \u001b[0mdataName\u001b[0m\u001b[0;34m,\u001b[0m \u001b[0mallocModelName\u001b[0m\u001b[0;34m,\u001b[0m\u001b[0;34m\u001b[0m\u001b[0m\n\u001b[1;32m     93\u001b[0m             \u001b[0mobsModelName\u001b[0m\u001b[0;34m,\u001b[0m \u001b[0malgName\u001b[0m\u001b[0;34m,\u001b[0m\u001b[0;34m\u001b[0m\u001b[0m\n\u001b[0;32m---> 94\u001b[0;31m             doSaveToDisk, doWriteStdOut)\n\u001b[0m\u001b[1;32m     95\u001b[0m         \u001b[0;32mif\u001b[0m \u001b[0;34m(\u001b[0m\u001b[0mtaskid\u001b[0m \u001b[0;34m==\u001b[0m \u001b[0mstarttaskid\u001b[0m \u001b[0;32mor\u001b[0m \u001b[0minfo_dict\u001b[0m\u001b[0;34m[\u001b[0m\u001b[0;34m'loss'\u001b[0m\u001b[0;34m]\u001b[0m \u001b[0;34m<\u001b[0m \u001b[0mbest_loss\u001b[0m\u001b[0;34m)\u001b[0m\u001b[0;34m:\u001b[0m\u001b[0;34m\u001b[0m\u001b[0m\n\u001b[1;32m     96\u001b[0m             \u001b[0mbestModel\u001b[0m \u001b[0;34m=\u001b[0m \u001b[0mhmodel\u001b[0m\u001b[0;34m\u001b[0m\u001b[0m\n",
      "\u001b[0;32m/Users/debora/Projects/bnpy/bnpy/Run.pyc\u001b[0m in \u001b[0;36m_run_task_internal\u001b[0;34m(jobname, taskid, nTask, ReqArgs, KwArgs, UnkArgs, dataName, allocModelName, obsModelName, algName, doSaveToDisk, doWriteStdOut)\u001b[0m\n\u001b[1;32m    221\u001b[0m \u001b[0;34m\u001b[0m\u001b[0m\n\u001b[1;32m    222\u001b[0m     \u001b[0;31m# Fit the model to the data!\u001b[0m\u001b[0;34m\u001b[0m\u001b[0;34m\u001b[0m\u001b[0m\n\u001b[0;32m--> 223\u001b[0;31m     \u001b[0mRunInfo\u001b[0m \u001b[0;34m=\u001b[0m \u001b[0mlearnAlg\u001b[0m\u001b[0;34m.\u001b[0m\u001b[0mfit\u001b[0m\u001b[0;34m(\u001b[0m\u001b[0mhmodel\u001b[0m\u001b[0;34m,\u001b[0m \u001b[0mData\u001b[0m\u001b[0;34m)\u001b[0m\u001b[0;34m\u001b[0m\u001b[0m\n\u001b[0m\u001b[1;32m    224\u001b[0m     \u001b[0mRunInfo\u001b[0m\u001b[0;34m[\u001b[0m\u001b[0;34m'UnkArgs'\u001b[0m\u001b[0;34m]\u001b[0m \u001b[0;34m=\u001b[0m \u001b[0mUnkArgs\u001b[0m\u001b[0;34m\u001b[0m\u001b[0m\n\u001b[1;32m    225\u001b[0m     \u001b[0mRunInfo\u001b[0m\u001b[0;34m[\u001b[0m\u001b[0;34m'KwArgs'\u001b[0m\u001b[0;34m]\u001b[0m \u001b[0;34m=\u001b[0m \u001b[0mKwArgs\u001b[0m\u001b[0;34m\u001b[0m\u001b[0m\n",
      "\u001b[0;32m/Users/debora/Projects/bnpy/bnpy/learnalg/EMAlg.pyc\u001b[0m in \u001b[0;36mfit\u001b[0;34m(self, hmodel, Data, LP)\u001b[0m\n\u001b[1;32m     50\u001b[0m \u001b[0;34m\u001b[0m\u001b[0m\n\u001b[1;32m     51\u001b[0m             \u001b[0;31m# Local/E step\u001b[0m\u001b[0;34m\u001b[0m\u001b[0;34m\u001b[0m\u001b[0m\n\u001b[0;32m---> 52\u001b[0;31m             \u001b[0mLP\u001b[0m \u001b[0;34m=\u001b[0m \u001b[0mhmodel\u001b[0m\u001b[0;34m.\u001b[0m\u001b[0mcalc_local_params\u001b[0m\u001b[0;34m(\u001b[0m\u001b[0mData\u001b[0m\u001b[0;34m,\u001b[0m \u001b[0mLP\u001b[0m\u001b[0;34m,\u001b[0m \u001b[0;34m**\u001b[0m\u001b[0mself\u001b[0m\u001b[0;34m.\u001b[0m\u001b[0malgParamsLP\u001b[0m\u001b[0;34m)\u001b[0m\u001b[0;34m\u001b[0m\u001b[0m\n\u001b[0m\u001b[1;32m     53\u001b[0m \u001b[0;34m\u001b[0m\u001b[0m\n\u001b[1;32m     54\u001b[0m             \u001b[0;31m# Summary step\u001b[0m\u001b[0;34m\u001b[0m\u001b[0;34m\u001b[0m\u001b[0m\n",
      "\u001b[0;32m/Users/debora/Projects/bnpy/bnpy/HModel.pyc\u001b[0m in \u001b[0;36mcalc_local_params\u001b[0;34m(self, Data, LP, doLogElapsedTime, **kwargs)\u001b[0m\n\u001b[1;32m     78\u001b[0m         \u001b[0;31m# Combine with allocModel probs of each cluster\u001b[0m\u001b[0;34m\u001b[0m\u001b[0;34m\u001b[0m\u001b[0m\n\u001b[1;32m     79\u001b[0m         \u001b[0;31m# Fills in LP['resp'], N x K array whose rows sum to one\u001b[0m\u001b[0;34m\u001b[0m\u001b[0;34m\u001b[0m\u001b[0m\n\u001b[0;32m---> 80\u001b[0;31m         \u001b[0mLP\u001b[0m \u001b[0;34m=\u001b[0m \u001b[0mself\u001b[0m\u001b[0;34m.\u001b[0m\u001b[0mallocModel\u001b[0m\u001b[0;34m.\u001b[0m\u001b[0mcalc_local_params\u001b[0m\u001b[0;34m(\u001b[0m\u001b[0mData\u001b[0m\u001b[0;34m,\u001b[0m \u001b[0mLP\u001b[0m\u001b[0;34m,\u001b[0m \u001b[0;34m**\u001b[0m\u001b[0mkwargs\u001b[0m\u001b[0;34m)\u001b[0m\u001b[0;34m\u001b[0m\u001b[0m\n\u001b[0m\u001b[1;32m     81\u001b[0m         \u001b[0;32mif\u001b[0m \u001b[0mdoLogElapsedTime\u001b[0m\u001b[0;34m:\u001b[0m\u001b[0;34m\u001b[0m\u001b[0m\n\u001b[1;32m     82\u001b[0m             \u001b[0mElapsedTimeLogger\u001b[0m\u001b[0;34m.\u001b[0m\u001b[0mstopEvent\u001b[0m\u001b[0;34m(\u001b[0m\u001b[0;34m'local'\u001b[0m\u001b[0;34m,\u001b[0m \u001b[0;34m'allocupdate'\u001b[0m\u001b[0;34m)\u001b[0m\u001b[0;34m\u001b[0m\u001b[0m\n",
      "\u001b[0;32m/Users/debora/Projects/bnpy/bnpy/allocmodel/hmm/FiniteHMM.pyc\u001b[0m in \u001b[0;36mcalc_local_params\u001b[0;34m(self, Data, LP, nnzPerRowLP, **kwargs)\u001b[0m\n\u001b[1;32m    159\u001b[0m \u001b[0;34m\u001b[0m\u001b[0m\n\u001b[1;32m    160\u001b[0m             \u001b[0mseqResp\u001b[0m\u001b[0;34m,\u001b[0m \u001b[0mseqRespPair\u001b[0m\u001b[0;34m,\u001b[0m \u001b[0mseqLogMargPr\u001b[0m \u001b[0;34m=\u001b[0m\u001b[0;31m \u001b[0m\u001b[0;31m\\\u001b[0m\u001b[0;34m\u001b[0m\u001b[0m\n\u001b[0;32m--> 161\u001b[0;31m                 \u001b[0mHMMUtil\u001b[0m\u001b[0;34m.\u001b[0m\u001b[0mFwdBwdAlg\u001b[0m\u001b[0;34m(\u001b[0m\u001b[0minitParam\u001b[0m\u001b[0;34m,\u001b[0m \u001b[0mtransParam\u001b[0m\u001b[0;34m,\u001b[0m \u001b[0mlogSoftEv_n\u001b[0m\u001b[0;34m,\u001b[0m \u001b[0mnnzPerRowLP\u001b[0m\u001b[0;34m)\u001b[0m\u001b[0;34m\u001b[0m\u001b[0m\n\u001b[0m\u001b[1;32m    162\u001b[0m \u001b[0;34m\u001b[0m\u001b[0m\n\u001b[1;32m    163\u001b[0m             \u001b[0mresp\u001b[0m\u001b[0;34m[\u001b[0m\u001b[0mstart\u001b[0m\u001b[0;34m:\u001b[0m\u001b[0mstop\u001b[0m\u001b[0;34m]\u001b[0m \u001b[0;34m=\u001b[0m \u001b[0mseqResp\u001b[0m\u001b[0;34m\u001b[0m\u001b[0m\n",
      "\u001b[0;32m/Users/debora/Projects/bnpy/bnpy/allocmodel/hmm/HMMUtil.py\u001b[0m in \u001b[0;36mFwdBwdAlg\u001b[0;34m(PiInit, PiMat, logSoftEv, nnzPerRow)\u001b[0m\n\u001b[1;32m    195\u001b[0m \u001b[0;34m\u001b[0m\u001b[0m\n\u001b[1;32m    196\u001b[0m     \u001b[0;31m# Rank state posterior probabilities\u001b[0m\u001b[0;34m\u001b[0m\u001b[0;34m\u001b[0m\u001b[0m\n\u001b[0;32m--> 197\u001b[0;31m     \u001b[0mtop_colids\u001b[0m \u001b[0;34m=\u001b[0m \u001b[0mnp\u001b[0m\u001b[0;34m.\u001b[0m\u001b[0margpartition\u001b[0m\u001b[0;34m(\u001b[0m\u001b[0mresp\u001b[0m\u001b[0;34m,\u001b[0m \u001b[0mK\u001b[0m \u001b[0;34m-\u001b[0m \u001b[0mnnzPerRow\u001b[0m\u001b[0;34m,\u001b[0m \u001b[0maxis\u001b[0m\u001b[0;34m=\u001b[0m\u001b[0;36m1\u001b[0m\u001b[0;34m)\u001b[0m\u001b[0;34m\u001b[0m\u001b[0m\n\u001b[0m\u001b[1;32m    198\u001b[0m     \u001b[0mtop_colids\u001b[0m \u001b[0;34m=\u001b[0m \u001b[0mtop_colids\u001b[0m\u001b[0;34m[\u001b[0m\u001b[0;34m:\u001b[0m\u001b[0;34m,\u001b[0m \u001b[0;34m-\u001b[0m\u001b[0mnnzPerRow\u001b[0m\u001b[0;34m:\u001b[0m\u001b[0;34m]\u001b[0m\u001b[0;34m\u001b[0m\u001b[0m\n\u001b[1;32m    199\u001b[0m     \u001b[0mnp\u001b[0m\u001b[0;34m.\u001b[0m\u001b[0msave\u001b[0m\u001b[0;34m(\u001b[0m\u001b[0;34m'top_colds.npy'\u001b[0m\u001b[0;34m,\u001b[0m \u001b[0mtop_colids\u001b[0m\u001b[0;34m)\u001b[0m\u001b[0;34m\u001b[0m\u001b[0m\n",
      "\u001b[0;32m/Users/debora/anaconda2/lib/python2.7/site-packages/numpy/core/fromnumeric.pyc\u001b[0m in \u001b[0;36margpartition\u001b[0;34m(a, kth, axis, kind, order)\u001b[0m\n\u001b[1;32m    704\u001b[0m \u001b[0;34m\u001b[0m\u001b[0m\n\u001b[1;32m    705\u001b[0m     \"\"\"\n\u001b[0;32m--> 706\u001b[0;31m     \u001b[0;32mreturn\u001b[0m \u001b[0m_wrapfunc\u001b[0m\u001b[0;34m(\u001b[0m\u001b[0ma\u001b[0m\u001b[0;34m,\u001b[0m \u001b[0;34m'argpartition'\u001b[0m\u001b[0;34m,\u001b[0m \u001b[0mkth\u001b[0m\u001b[0;34m,\u001b[0m \u001b[0maxis\u001b[0m\u001b[0;34m=\u001b[0m\u001b[0maxis\u001b[0m\u001b[0;34m,\u001b[0m \u001b[0mkind\u001b[0m\u001b[0;34m=\u001b[0m\u001b[0mkind\u001b[0m\u001b[0;34m,\u001b[0m \u001b[0morder\u001b[0m\u001b[0;34m=\u001b[0m\u001b[0morder\u001b[0m\u001b[0;34m)\u001b[0m\u001b[0;34m\u001b[0m\u001b[0m\n\u001b[0m\u001b[1;32m    707\u001b[0m \u001b[0;34m\u001b[0m\u001b[0m\n\u001b[1;32m    708\u001b[0m \u001b[0;34m\u001b[0m\u001b[0m\n",
      "\u001b[0;32m/Users/debora/anaconda2/lib/python2.7/site-packages/numpy/core/fromnumeric.pyc\u001b[0m in \u001b[0;36m_wrapfunc\u001b[0;34m(obj, method, *args, **kwds)\u001b[0m\n\u001b[1;32m     55\u001b[0m \u001b[0;32mdef\u001b[0m \u001b[0m_wrapfunc\u001b[0m\u001b[0;34m(\u001b[0m\u001b[0mobj\u001b[0m\u001b[0;34m,\u001b[0m \u001b[0mmethod\u001b[0m\u001b[0;34m,\u001b[0m \u001b[0;34m*\u001b[0m\u001b[0margs\u001b[0m\u001b[0;34m,\u001b[0m \u001b[0;34m**\u001b[0m\u001b[0mkwds\u001b[0m\u001b[0;34m)\u001b[0m\u001b[0;34m:\u001b[0m\u001b[0;34m\u001b[0m\u001b[0m\n\u001b[1;32m     56\u001b[0m     \u001b[0;32mtry\u001b[0m\u001b[0;34m:\u001b[0m\u001b[0;34m\u001b[0m\u001b[0m\n\u001b[0;32m---> 57\u001b[0;31m         \u001b[0;32mreturn\u001b[0m \u001b[0mgetattr\u001b[0m\u001b[0;34m(\u001b[0m\u001b[0mobj\u001b[0m\u001b[0;34m,\u001b[0m \u001b[0mmethod\u001b[0m\u001b[0;34m)\u001b[0m\u001b[0;34m(\u001b[0m\u001b[0;34m*\u001b[0m\u001b[0margs\u001b[0m\u001b[0;34m,\u001b[0m \u001b[0;34m**\u001b[0m\u001b[0mkwds\u001b[0m\u001b[0;34m)\u001b[0m\u001b[0;34m\u001b[0m\u001b[0m\n\u001b[0m\u001b[1;32m     58\u001b[0m \u001b[0;34m\u001b[0m\u001b[0m\n\u001b[1;32m     59\u001b[0m     \u001b[0;31m# An AttributeError occurs if the object does not have\u001b[0m\u001b[0;34m\u001b[0m\u001b[0;34m\u001b[0m\u001b[0m\n",
      "\u001b[0;31mValueError\u001b[0m: kth(=5) out of bounds (5)"
     ]
    }
   ],
   "source": [
    "K = 5            # Number of clusters/states\n",
    "\n",
    "# Allocation model (Standard Bayesian HMM with sticky self-transitions)\n",
    "transAlpha =   0.5  # trans-level Dirichlet concentration parameter\n",
    "startAlpha =  10.0  # starting-state Dirichlet concentration parameter\n",
    "hmmKappa   =  50.0  # set sticky self-transition weight\n",
    "\n",
    "# Observation model (1st-order Auto-regressive Gaussian)\n",
    "sF = 1.0          # Set observation model prior so E[covariance] = identity\n",
    "ECovMat = 'eye'\n",
    "\n",
    "nTask = 1\n",
    "\n",
    "bias0_trained_model, bias0_info_dict = bnpy.run(\n",
    "    dataset,\n",
    "    'FiniteHMM', 'AutoRegGauss', 'EM',\n",
    "    output_path=(\n",
    "        '/tmp/mocap6/bias0-K=%d-model=HMM+AutoRegGauss-ECovMat=1*eye/'\n",
    "        % (K)),\n",
    "    nLap=100, nTask=nTask, convergeThr=0.0001,\n",
    "    transAlpha=transAlpha, startAlpha=startAlpha, hmmKappa=hmmKappa,\n",
    "    sF=sF, ECovMat=ECovMat, MMat='eye',\n",
    "    K=K, initname='randexamples',\n",
    "    printEvery=25,\n",
    "    )"
   ]
  },
  {
   "cell_type": "code",
   "execution_count": null,
   "metadata": {},
   "outputs": [],
   "source": [
    "bias1_trained_model, bias1_info_dict = bnpy.run(\n",
    "    dataset_biasfeature,\n",
    "    'FiniteHMM', 'AutoRegGauss', 'EM',\n",
    "    output_path=(\n",
    "        '/tmp/mocap6/bias1-K=%d-model=HMM+AutoRegGauss-ECovMat=1*eye/'\n",
    "        % (K)),\n",
    "    nLap=100, nTask=nTask, convergeThr=0.0001,\n",
    "    transAlpha=transAlpha, startAlpha=startAlpha, hmmKappa=hmmKappa,\n",
    "    sF=sF, ECovMat=ECovMat, MMat='eye',\n",
    "    K=K, initname='randexamples',\n",
    "    printEvery=25,\n",
    "    )"
   ]
  },
  {
   "cell_type": "code",
   "execution_count": null,
   "metadata": {},
   "outputs": [],
   "source": [
    "bias1vb_trained_model, bias1vb_info_dict = bnpy.run(\n",
    "    dataset_biasfeature,\n",
    "    'FiniteHMM', 'AutoRegGauss', 'VB',\n",
    "    output_path=(\n",
    "        '/tmp/mocap6/bias1vb-K=%d-model=HMM+AutoRegGauss-ECovMat=1*eye/'\n",
    "        % (K)),\n",
    "    nLap=100, nTask=nTask, convergeThr=0.0001,\n",
    "    transAlpha=transAlpha, startAlpha=startAlpha, hmmKappa=hmmKappa,\n",
    "    sF=sF, ECovMat=ECovMat, MMat='eye',\n",
    "    K=K, initname='randexamples',\n",
    "    printEvery=25,\n",
    "    )\n",
    "\n",
    "\n",
    "bias0vb_trained_model, bias0vb_info_dict = bnpy.run(\n",
    "    dataset,\n",
    "    'FiniteHMM', 'AutoRegGauss', 'VB',\n",
    "    output_path=(\n",
    "        '/tmp/mocap6/bias1vb-K=%d-model=HMM+AutoRegGauss-ECovMat=1*eye/'\n",
    "        % (K)),\n",
    "    nLap=100, nTask=nTask, convergeThr=0.0001,\n",
    "    transAlpha=transAlpha, startAlpha=startAlpha, hmmKappa=hmmKappa,\n",
    "    sF=sF, ECovMat=ECovMat, MMat='eye',\n",
    "    K=K, initname='randexamples',\n",
    "    printEvery=25,\n",
    "    )"
   ]
  },
  {
   "cell_type": "code",
   "execution_count": null,
   "metadata": {},
   "outputs": [],
   "source": [
    "pylab.figure()\n",
    "markersize = 5\n",
    "pylab.plot(\n",
    "    bias0_info_dict['lap_history'],\n",
    "    bias0_info_dict['loss_history'], 'bs-',\n",
    "    markersize=markersize,\n",
    "    label='EM without bias feature')\n",
    "pylab.plot(\n",
    "    bias1_info_dict['lap_history'],\n",
    "    bias1_info_dict['loss_history'], 'ks-',\n",
    "    markersize=markersize,\n",
    "    label='EM WITH bias feature')\n",
    "pylab.plot(\n",
    "    bias0vb_info_dict['lap_history'],\n",
    "    bias0vb_info_dict['loss_history'], 'bd--',\n",
    "    markersize=markersize,\n",
    "    label='VB without bias feature')\n",
    "pylab.plot(\n",
    "    bias1vb_info_dict['lap_history'],\n",
    "    bias1vb_info_dict['loss_history'], 'kd--',\n",
    "    markersize=markersize,\n",
    "    label='VB WITH bias feature')\n",
    "\n",
    "pylab.legend(loc='upper right')\n",
    "pylab.ylim([1.5, 3.0])\n",
    "\n",
    "pylab.xlabel('num. laps')\n",
    "pylab.ylabel('loss: - log p(x)')\n",
    "pylab.draw()\n",
    "pylab.tight_layout()\n",
    "\n",
    "pylab.savefig('grr.png')\n",
    "pylab.show()"
   ]
  },
  {
   "cell_type": "code",
   "execution_count": null,
   "metadata": {
    "collapsed": true
   },
   "outputs": [],
   "source": [
    "before_respPair = np.load('before_respPair.npy')\n",
    "print before_respPair[226]\n",
    "print before_respPair[227]"
   ]
  },
  {
   "cell_type": "code",
   "execution_count": null,
   "metadata": {
    "collapsed": true
   },
   "outputs": [],
   "source": [
    "resp = np.load('before_resp.npy')\n",
    "print resp[225:228]"
   ]
  },
  {
   "cell_type": "code",
   "execution_count": null,
   "metadata": {
    "collapsed": true
   },
   "outputs": [],
   "source": [
    "top_colids = np.load('top_colds.npy')\n",
    "print '225, 226'\n",
    "print top_colids[225:227]\n",
    "print '226, 227'\n",
    "print top_colids[226:228] "
   ]
  },
  {
   "cell_type": "code",
   "execution_count": null,
   "metadata": {
    "collapsed": true
   },
   "outputs": [],
   "source": [
    "before4 = before_respPair[226]\n",
    "before5 = before_respPair[227]"
   ]
  },
  {
   "cell_type": "code",
   "execution_count": null,
   "metadata": {
    "collapsed": true
   },
   "outputs": [],
   "source": [
    "print before4.sum(axis=0)\n",
    "print before4.sum(axis=1)"
   ]
  },
  {
   "cell_type": "code",
   "execution_count": null,
   "metadata": {
    "collapsed": true
   },
   "outputs": [],
   "source": [
    "print before5.sum(axis=0)\n",
    "print before5.sum(axis=1)"
   ]
  },
  {
   "cell_type": "code",
   "execution_count": null,
   "metadata": {
    "collapsed": true
   },
   "outputs": [],
   "source": [
    "before_norm = np.load('before_norm_respPair.npy')\n",
    "print before_norm[5]"
   ]
  },
  {
   "cell_type": "code",
   "execution_count": null,
   "metadata": {
    "collapsed": true
   },
   "outputs": [],
   "source": [
    "before5"
   ]
  },
  {
   "cell_type": "code",
   "execution_count": null,
   "metadata": {
    "collapsed": true
   },
   "outputs": [],
   "source": [
    "to_ts = [226, 227]\n",
    "respPair = np.zeros_like(before_respPair)\n",
    "for t in xrange(226, 228):\n",
    "    from_ids = top_colids[t-1]\n",
    "    to_ids = top_colids[t]\n",
    "    print t, from_ids, to_ids\n",
    "    \n",
    "    print before_respPair[t][np.ix_(from_ids, to_ids)]\n",
    "    respPair[t][np.ix_(from_ids, to_ids)] = before_respPair[t][np.ix_(from_ids, to_ids)]"
   ]
  },
  {
   "cell_type": "code",
   "execution_count": null,
   "metadata": {
    "collapsed": true
   },
   "outputs": [],
   "source": [
    "respPair[226:228]"
   ]
  },
  {
   "cell_type": "code",
   "execution_count": null,
   "metadata": {
    "collapsed": true
   },
   "outputs": [],
   "source": [
    "print before_respPair[226]\n",
    "print before_respPair[227]"
   ]
  },
  {
   "cell_type": "code",
   "execution_count": null,
   "metadata": {
    "collapsed": true
   },
   "outputs": [],
   "source": [
    "respPair[1:] /= respPair[1:].sum(axis=(1, 2)).reshape((-1, 1, 1))"
   ]
  },
  {
   "cell_type": "code",
   "execution_count": null,
   "metadata": {
    "collapsed": true
   },
   "outputs": [],
   "source": [
    "test_pair = respPair[226:228]\n",
    "print test_pair"
   ]
  },
  {
   "cell_type": "code",
   "execution_count": null,
   "metadata": {
    "collapsed": true
   },
   "outputs": [],
   "source": [
    "# to t=226,227\n",
    "test_pair.sum(axis=1)"
   ]
  },
  {
   "cell_type": "code",
   "execution_count": null,
   "metadata": {
    "collapsed": true
   },
   "outputs": [],
   "source": [
    "# from t=225, 226\n",
    "test_pair.sum(axis=2)"
   ]
  },
  {
   "cell_type": "code",
   "execution_count": null,
   "metadata": {
    "collapsed": true
   },
   "outputs": [],
   "source": [
    "after_resp = np.load('after_resp.npy')\n",
    "after_resp[225:228]"
   ]
  },
  {
   "cell_type": "code",
   "execution_count": null,
   "metadata": {
    "collapsed": true
   },
   "outputs": [],
   "source": [
    "0.013 + 0.046"
   ]
  },
  {
   "cell_type": "code",
   "execution_count": null,
   "metadata": {
    "collapsed": true
   },
   "outputs": [],
   "source": [
    ".055+.007"
   ]
  },
  {
   "cell_type": "code",
   "execution_count": null,
   "metadata": {
    "collapsed": true
   },
   "outputs": [],
   "source": [
    "after_respPair = np.load('after_norm_respPair.npy')\n",
    "print np.max(np.abs(after_respPair[1:].sum(axis=1)[:-1] - after_respPair[1:].sum(axis=2)[1:]))"
   ]
  },
  {
   "cell_type": "code",
   "execution_count": null,
   "metadata": {
    "collapsed": true
   },
   "outputs": [],
   "source": [
    "np.argmax(np.abs(after_respPair[1:].sum(axis=1)[:-1] - after_respPair[1:].sum(axis=2)[1:]).sum(axis=1))"
   ]
  },
  {
   "cell_type": "code",
   "execution_count": null,
   "metadata": {
    "collapsed": true
   },
   "outputs": [],
   "source": [
    "np.log(0), np.log(0.5), np.log(1)"
   ]
  },
  {
   "cell_type": "code",
   "execution_count": null,
   "metadata": {
    "collapsed": true
   },
   "outputs": [],
   "source": [
    "bias0_info_dict"
   ]
  },
  {
   "cell_type": "code",
   "execution_count": null,
   "metadata": {
    "collapsed": true
   },
   "outputs": [],
   "source": [
    "bias0_trained_model.allocModel.get_trans_prob_matrix()"
   ]
  },
  {
   "cell_type": "code",
   "execution_count": null,
   "metadata": {
    "collapsed": true
   },
   "outputs": [],
   "source": []
  }
 ],
 "metadata": {
  "kernelspec": {
   "display_name": "Python 2",
   "language": "python",
   "name": "python2"
  },
  "language_info": {
   "codemirror_mode": {
    "name": "ipython",
    "version": 2
   },
   "file_extension": ".py",
   "mimetype": "text/x-python",
   "name": "python",
   "nbconvert_exporter": "python",
   "pygments_lexer": "ipython2",
   "version": "2.7.13"
  }
 },
 "nbformat": 4,
 "nbformat_minor": 2
}

{
 "cells": [
  {
   "cell_type": "code",
   "execution_count": 1,
   "metadata": {
    "collapsed": true
   },
   "outputs": [],
   "source": [
    "import bnpy\n",
    "import numpy as np\n",
    "import util"
   ]
  },
  {
   "cell_type": "code",
   "execution_count": 2,
   "metadata": {
    "collapsed": true
   },
   "outputs": [],
   "source": [
    "alloc_model = 'FiniteHMM'\n",
    "obs_model = 'AutoRegGauss'\n",
    "learn_alg = 'VB'\n",
    "out_path = 'experiments/mocap124'\n",
    "dataset_title = 'MoCap124'\n",
    "K = 100\n",
    "max_laps = 1000\n",
    "kwargs = {\n",
    "    'ECovMat': 'diagcovfirstdiff',\n",
    "    'sF': 0.5,\n",
    "    'VMat': 'same',\n",
    "    'sV': 0.5,\n",
    "    'MMat': 'eye'\n",
    "}"
   ]
  },
  {
   "cell_type": "markdown",
   "metadata": {},
   "source": [
    "# Load data"
   ]
  },
  {
   "cell_type": "code",
   "execution_count": 3,
   "metadata": {
    "collapsed": true
   },
   "outputs": [],
   "source": [
    "dataset = util.load_full_mocap_data()"
   ]
  },
  {
   "cell_type": "markdown",
   "metadata": {},
   "source": [
    "# Run experiment"
   ]
  },
  {
   "cell_type": "code",
   "execution_count": null,
   "metadata": {
    "scrolled": false
   },
   "outputs": [
    {
     "name": "stdout",
     "output_type": "stream",
     "text": [
      "Training dense model\n",
      "Dataset Summary:\n",
      "124 sequences of motion capture data from mocap.cs.cmu.edu\n",
      "  size: 124 units (documents)\n",
      "  dimension: 12\n",
      "Allocation Model:  None\n",
      "Obs. Data  Model:  Auto-Regressive Gaussian with full covariance.\n",
      "Obs. Data  Prior:  MatrixNormal-Wishart on each mean/prec matrix pair: A, Lam\n",
      "  E[ A ] = \n",
      "  [[ 1.  0.]\n",
      "   [ 0.  1.]] ...\n",
      "  E[ Sigma ] = \n",
      "  [[ 0.13002017  0.        ]\n",
      "   [ 0.          3.01479885]] ...\n",
      "Initialization:\n",
      "  initname = randexamples\n",
      "  K = 100 (number of clusters)\n",
      "  seed = 1607680\n",
      "  elapsed_time: 0.6 sec\n",
      "Learn Alg: VB | task  1/5 | alg. seed: 1607680 | data order seed: 8541952\n",
      "task_output_path: experiments/mocap124/dense/1\n",
      "        1/1000 after     34 sec. |   1652.2 MiB | K  100 | loss  3.285137291e+00 |  \n",
      "        2/1000 after     58 sec. |   1710.4 MiB | K  100 | loss  2.849007794e+00 | Ndiff 1401.302 \n",
      "       25/1000 after    532 sec. |   1739.7 MiB | K  100 | loss  2.491975711e+00 | Ndiff   19.998 \n",
      "       50/1000 after   1025 sec. |   1800.4 MiB | K  100 | loss  2.481426231e+00 | Ndiff    8.123 \n",
      "       75/1000 after   1498 sec. |   1846.9 MiB | K  100 | loss  2.479144210e+00 | Ndiff    2.117 \n",
      "      100/1000 after   2005 sec. |   1723.9 MiB | K  100 | loss  2.478582536e+00 | Ndiff    0.669 \n",
      "      125/1000 after   2498 sec. |   1811.9 MiB | K  100 | loss  2.477895052e+00 | Ndiff    2.175 \n",
      "      150/1000 after   2985 sec. |   1865.7 MiB | K  100 | loss  2.477741627e+00 | Ndiff    1.144 \n",
      "      175/1000 after   3663 sec. |   1840.8 MiB | K  100 | loss  2.477445289e+00 | Ndiff    0.455 \n",
      "      200/1000 after   4179 sec. |   1815.7 MiB | K  100 | loss  2.477244596e+00 | Ndiff    7.005 \n",
      "      225/1000 after   4791 sec. |   1754.3 MiB | K  100 | loss  2.476499616e+00 | Ndiff    1.393 \n",
      "      250/1000 after   5328 sec. |   1836.3 MiB | K  100 | loss  2.476382892e+00 | Ndiff    0.387 \n",
      "      275/1000 after   5910 sec. |   1841.1 MiB | K  100 | loss  2.476382421e+00 | Ndiff    0.015 \n",
      "      300/1000 after   6451 sec. |   1848.9 MiB | K  100 | loss  2.476382413e+00 | Ndiff    0.013 \n",
      "      325/1000 after   7093 sec. |   1851.4 MiB | K  100 | loss  2.476382284e+00 | Ndiff    0.022 \n",
      "      350/1000 after   7678 sec. |   1752.7 MiB | K  100 | loss  2.476254416e+00 | Ndiff    0.685 \n",
      "      375/1000 after   8186 sec. |   1791.2 MiB | K  100 | loss  2.476249515e+00 | Ndiff    0.142 \n",
      "      400/1000 after   8659 sec. |   1865.4 MiB | K  100 | loss  2.476249480e+00 | Ndiff    0.007 \n",
      "      425/1000 after   9121 sec. |   1803.1 MiB | K  100 | loss  2.476249480e+00 | Ndiff    0.001 \n",
      "      443/1000 after   9458 sec. |   1810.1 MiB | K  100 | loss  2.476249480e+00 | Ndiff    0.000 \n",
      "... done. converged.\n",
      "Learn Alg: VB | task  2/5 | alg. seed: 6454144 | data order seed: 7673856\n",
      "task_output_path: experiments/mocap124/dense/2\n",
      "        1/1000 after     27 sec. |   1643.6 MiB | K  100 | loss  3.279671803e+00 |  \n",
      "        2/1000 after     50 sec. |   1733.4 MiB | K  100 | loss  2.815831948e+00 | Ndiff 2319.912 \n",
      "       25/1000 after    490 sec. |   1870.3 MiB | K  100 | loss  2.496619993e+00 | Ndiff    7.444 \n",
      "       50/1000 after    962 sec. |   1863.4 MiB | K  100 | loss  2.491047218e+00 | Ndiff    5.011 \n",
      "       75/1000 after   1433 sec. |   1851.8 MiB | K  100 | loss  2.488761516e+00 | Ndiff    2.300 \n",
      "      100/1000 after   1903 sec. |   1830.0 MiB | K  100 | loss  2.487733831e+00 | Ndiff    2.204 \n",
      "      125/1000 after   2367 sec. |   1845.2 MiB | K  100 | loss  2.487623257e+00 | Ndiff    0.419 \n",
      "      150/1000 after   2829 sec. |   1852.6 MiB | K  100 | loss  2.487616730e+00 | Ndiff    0.028 \n",
      "      175/1000 after   3296 sec. |   1792.1 MiB | K  100 | loss  2.487616015e+00 | Ndiff    0.324 \n",
      "      200/1000 after   3769 sec. |   1793.0 MiB | K  100 | loss  2.487607274e+00 | Ndiff    0.046 \n",
      "      225/1000 after   4241 sec. |   1863.9 MiB | K  100 | loss  2.487607264e+00 | Ndiff    0.001 \n",
      "      250/1000 after   4717 sec. |   1801.8 MiB | K  100 | loss  2.487607264e+00 | Ndiff    0.000 \n",
      "      257/1000 after   4847 sec. |   1789.7 MiB | K  100 | loss  2.487607264e+00 | Ndiff    0.000 \n",
      "... done. converged.\n",
      "Learn Alg: VB | task  3/5 | alg. seed: 6168832 | data order seed: 7360256\n",
      "task_output_path: experiments/mocap124/dense/3\n",
      "        1/1000 after     26 sec. |   1914.4 MiB | K  100 | loss  3.275967445e+00 |  \n",
      "        2/1000 after     45 sec. |   2094.6 MiB | K  100 | loss  2.829642583e+00 | Ndiff 1986.101 \n",
      "       25/1000 after    460 sec. |   1990.4 MiB | K  100 | loss  2.502901126e+00 | Ndiff   11.804 \n",
      "       50/1000 after    917 sec. |   1869.0 MiB | K  100 | loss  2.494143665e+00 | Ndiff   10.294 \n",
      "       75/1000 after   1376 sec. |   1848.2 MiB | K  100 | loss  2.490965570e+00 | Ndiff    4.482 \n",
      "      100/1000 after   1838 sec. |   1847.3 MiB | K  100 | loss  2.489273210e+00 | Ndiff    1.257 \n",
      "      125/1000 after   2297 sec. |   1845.3 MiB | K  100 | loss  2.489051386e+00 | Ndiff    0.475 \n",
      "      150/1000 after   2760 sec. |   1864.1 MiB | K  100 | loss  2.488893577e+00 | Ndiff    0.657 \n",
      "      175/1000 after   3221 sec. |   1863.8 MiB | K  100 | loss  2.488861304e+00 | Ndiff    0.089 \n",
      "      200/1000 after   3683 sec. |   1878.7 MiB | K  100 | loss  2.488785095e+00 | Ndiff    0.044 \n",
      "      225/1000 after   4145 sec. |   1869.4 MiB | K  100 | loss  2.488731937e+00 | Ndiff    0.023 \n",
      "      250/1000 after   4608 sec. |   1822.2 MiB | K  100 | loss  2.488699403e+00 | Ndiff    0.498 \n",
      "      275/1000 after   5075 sec. |   1878.8 MiB | K  100 | loss  2.488645906e+00 | Ndiff    0.152 \n",
      "      300/1000 after   5532 sec. |   1842.7 MiB | K  100 | loss  2.488489172e+00 | Ndiff    0.045 \n",
      "      325/1000 after   5999 sec. |   1846.2 MiB | K  100 | loss  2.488489165e+00 | Ndiff    0.006 \n",
      "      350/1000 after   6463 sec. |   1864.4 MiB | K  100 | loss  2.488489165e+00 | Ndiff    0.002 \n",
      "      375/1000 after   6923 sec. |   1875.7 MiB | K  100 | loss  2.488489165e+00 | Ndiff    0.001 \n",
      "      400/1000 after   7385 sec. |   1753.5 MiB | K  100 | loss  2.488447278e+00 | Ndiff    0.082 \n",
      "      425/1000 after   7849 sec. |   1858.8 MiB | K  100 | loss  2.488447271e+00 | Ndiff    0.002 \n",
      "      450/1000 after   8311 sec. |   1864.9 MiB | K  100 | loss  2.488438503e+00 | Ndiff    0.001 \n",
      "      475/1000 after   8781 sec. |   1814.2 MiB | K  100 | loss  2.488438503e+00 | Ndiff    0.000 \n",
      "      500/1000 after   9244 sec. |   1863.9 MiB | K  100 | loss  2.488438503e+00 | Ndiff    0.000 \n",
      "... done. converged.\n",
      "Learn Alg: VB | task  4/5 | alg. seed: 8205184 | data order seed: 900864\n",
      "task_output_path: experiments/mocap124/dense/4\n",
      "        1/1000 after     24 sec. |   2861.2 MiB | K  100 | loss  3.282378222e+00 |  \n",
      "        2/1000 after     48 sec. |   2305.8 MiB | K  100 | loss  2.838286762e+00 | Ndiff 1908.293 \n",
      "       25/1000 after    464 sec. |   2411.9 MiB | K  100 | loss  2.507136043e+00 | Ndiff   12.008 \n",
      "       50/1000 after    950 sec. |   1872.9 MiB | K  100 | loss  2.494013732e+00 | Ndiff    5.438 \n",
      "       75/1000 after   1423 sec. |   1869.6 MiB | K  100 | loss  2.490354039e+00 | Ndiff    2.734 \n",
      "      100/1000 after   1885 sec. |   1874.6 MiB | K  100 | loss  2.488141523e+00 | Ndiff    1.941 \n",
      "      125/1000 after   2344 sec. |   1874.8 MiB | K  100 | loss  2.486419507e+00 | Ndiff    3.351 \n",
      "      150/1000 after   2807 sec. |   1873.5 MiB | K  100 | loss  2.484564529e+00 | Ndiff    1.417 \n",
      "      175/1000 after   3265 sec. |   1874.6 MiB | K  100 | loss  2.483687863e+00 | Ndiff    1.697 \n",
      "      200/1000 after   3763 sec. |   1861.9 MiB | K  100 | loss  2.483069929e+00 | Ndiff    1.105 \n",
      "      225/1000 after   4373 sec. |   1869.9 MiB | K  100 | loss  2.482623012e+00 | Ndiff    0.418 \n",
      "      250/1000 after   4966 sec. |   1867.8 MiB | K  100 | loss  2.482233069e+00 | Ndiff    0.746 \n",
      "      275/1000 after   5444 sec. |   1870.7 MiB | K  100 | loss  2.482119019e+00 | Ndiff    0.443 \n",
      "      300/1000 after   5929 sec. |   1865.9 MiB | K  100 | loss  2.482113564e+00 | Ndiff    0.020 \n",
      "      325/1000 after   6454 sec. |   1874.2 MiB | K  100 | loss  2.482113560e+00 | Ndiff    0.004 \n",
      "      350/1000 after   7088 sec. |   1860.7 MiB | K  100 | loss  2.482113560e+00 | Ndiff    0.001 \n",
      "      375/1000 after   7795 sec. |   1874.1 MiB | K  100 | loss  2.482113560e+00 | Ndiff    0.000 \n",
      "      400/1000 after   8525 sec. |   1859.2 MiB | K  100 | loss  2.482113560e+00 | Ndiff    0.000 \n"
     ]
    },
    {
     "name": "stdout",
     "output_type": "stream",
     "text": [
      "      407/1000 after   8713 sec. |   1869.9 MiB | K  100 | loss  2.482113560e+00 | Ndiff    0.000 \n",
      "... done. converged.\n",
      "Learn Alg: VB | task  5/5 | alg. seed: 2986368 | data order seed: 6479872\n",
      "task_output_path: experiments/mocap124/dense/5\n",
      "        1/1000 after     34 sec. |   1902.7 MiB | K  100 | loss  3.266805107e+00 |  \n",
      "        2/1000 after     61 sec. |   2035.9 MiB | K  100 | loss  2.829396593e+00 | Ndiff 3833.445 \n",
      "       25/1000 after    697 sec. |   1764.8 MiB | K  100 | loss  2.502196385e+00 | Ndiff   66.908 \n",
      "       50/1000 after   1494 sec. |   1799.5 MiB | K  100 | loss  2.492371964e+00 | Ndiff    3.100 \n",
      "       75/1000 after   2172 sec. |   1836.7 MiB | K  100 | loss  2.489981785e+00 | Ndiff    4.164 \n",
      "      100/1000 after   2861 sec. |   1862.7 MiB | K  100 | loss  2.488228835e+00 | Ndiff    3.751 \n",
      "      125/1000 after   3550 sec. |   1852.9 MiB | K  100 | loss  2.487544918e+00 | Ndiff    1.803 \n",
      "      150/1000 after   4251 sec. |   1842.3 MiB | K  100 | loss  2.487402145e+00 | Ndiff    0.461 \n",
      "      175/1000 after   4976 sec. |   1864.7 MiB | K  100 | loss  2.487376136e+00 | Ndiff    0.106 \n"
     ]
    }
   ],
   "source": [
    "experiment = util.run_experiment(dataset, alloc_model, obs_model, learn_alg, K, out_path,\n",
    "                                 max_laps=max_laps, **kwargs)"
   ]
  },
  {
   "cell_type": "code",
   "execution_count": null,
   "metadata": {
    "collapsed": true
   },
   "outputs": [],
   "source": []
  }
 ],
 "metadata": {
  "kernelspec": {
   "display_name": "Python 2",
   "language": "python",
   "name": "python2"
  },
  "language_info": {
   "codemirror_mode": {
    "name": "ipython",
    "version": 2
   },
   "file_extension": ".py",
   "mimetype": "text/x-python",
   "name": "python",
   "nbconvert_exporter": "python",
   "pygments_lexer": "ipython2",
   "version": "2.7.13"
  }
 },
 "nbformat": 4,
 "nbformat_minor": 2
}

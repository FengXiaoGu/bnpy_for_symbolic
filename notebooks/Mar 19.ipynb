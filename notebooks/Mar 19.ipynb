{
 "cells": [
  {
   "cell_type": "code",
   "execution_count": 1,
   "metadata": {
    "collapsed": true
   },
   "outputs": [],
   "source": [
    "import numpy as np\n",
    "import bnpy, os, util\n",
    "\n",
    "import matplotlib.pyplot as plt\n",
    "plt.rcParams['figure.figsize'] = (18, 8)\n",
    "plt.rcParams['font.size'] = 20\n",
    "\n",
    "from bnpy.allocmodel.hmm.HMMUtil import runViterbiAlg\n",
    "from bnpy.util.StateSeqUtil import alignEstimatedStateSeqToTruth\n",
    "from bnpy.util.StateSeqUtil import calcHammingDistance\n",
    "\n",
    "from scipy import stats"
   ]
  },
  {
   "cell_type": "code",
   "execution_count": 2,
   "metadata": {
    "collapsed": true
   },
   "outputs": [],
   "source": [
    "alloc_model = 'FiniteHMM'\n",
    "alg = 'VB'"
   ]
  },
  {
   "cell_type": "markdown",
   "metadata": {},
   "source": [
    "# MoCap6 dataset"
   ]
  },
  {
   "cell_type": "code",
   "execution_count": 3,
   "metadata": {},
   "outputs": [
    {
     "name": "stdout",
     "output_type": "stream",
     "text": [
      "Training dense model\n",
      "Dataset Summary:\n",
      "GroupXData\n",
      "  size: 6 units (documents)\n",
      "  dimension: 12\n",
      "Allocation Model:  None\n",
      "Obs. Data  Model:  Auto-Regressive Gaussian with full covariance.\n",
      "Obs. Data  Prior:  MatrixNormal-Wishart on each mean/prec matrix pair: A, Lam\n",
      "  E[ A ] = \n",
      "  [[ 1.  0.]\n",
      "   [ 0.  1.]] ...\n",
      "  E[ Sigma ] = \n",
      "  [[ 1.  0.]\n",
      "   [ 0.  1.]] ...\n",
      "Initialization:\n",
      "  initname = randexamples\n",
      "  K = 20 (number of clusters)\n",
      "  seed = 1607680\n",
      "  elapsed_time: 0.1 sec\n",
      "Learn Alg: VB | task  1/1 | alg. seed: 1607680 | data order seed: 8541952\n",
      "task_output_path: /tmp/mocap6-K=20/dense/1\n",
      "        1/500 after      0 sec. |    133.5 MiB | K   20 | loss  2.899921971e+00 |  \n",
      "        2/500 after      1 sec. |    134.1 MiB | K   20 | loss  2.704977383e+00 | Ndiff   53.638 \n"
     ]
    },
    {
     "ename": "KeyboardInterrupt",
     "evalue": "",
     "output_type": "error",
     "traceback": [
      "\u001b[0;31m---------------------------------------------------------------------------\u001b[0m",
      "\u001b[0;31mKeyboardInterrupt\u001b[0m                         Traceback (most recent call last)",
      "\u001b[0;32m<ipython-input-3-87ea935c286a>\u001b[0m in \u001b[0;36m<module>\u001b[0;34m()\u001b[0m\n\u001b[1;32m      8\u001b[0m \u001b[0mout_path\u001b[0m \u001b[0;34m=\u001b[0m \u001b[0;34m'/tmp/mocap6-K=%d'\u001b[0m \u001b[0;34m%\u001b[0m \u001b[0;34m(\u001b[0m\u001b[0mK\u001b[0m\u001b[0;34m)\u001b[0m\u001b[0;34m\u001b[0m\u001b[0m\n\u001b[1;32m      9\u001b[0m \u001b[0;34m\u001b[0m\u001b[0m\n\u001b[0;32m---> 10\u001b[0;31m \u001b[0mmocap_experiment\u001b[0m \u001b[0;34m=\u001b[0m \u001b[0mutil\u001b[0m\u001b[0;34m.\u001b[0m\u001b[0mrun_experiment\u001b[0m\u001b[0;34m(\u001b[0m\u001b[0mmocap_dataset\u001b[0m\u001b[0;34m,\u001b[0m \u001b[0malloc_model\u001b[0m\u001b[0;34m,\u001b[0m \u001b[0mobs_model\u001b[0m\u001b[0;34m,\u001b[0m \u001b[0malg\u001b[0m\u001b[0;34m,\u001b[0m \u001b[0mK\u001b[0m\u001b[0;34m,\u001b[0m \u001b[0mout_path\u001b[0m\u001b[0;34m,\u001b[0m \u001b[0mn_task\u001b[0m\u001b[0;34m=\u001b[0m\u001b[0;36m1\u001b[0m\u001b[0;34m)\u001b[0m\u001b[0;34m\u001b[0m\u001b[0m\n\u001b[0m",
      "\u001b[0;32m/Users/debora/Projects/bnpy/util.pyc\u001b[0m in \u001b[0;36mrun_experiment\u001b[0;34m(dataset, alloc_model, obs_model, alg, K, out_path, min_L, max_L, n_task, tol, max_laps)\u001b[0m\n\u001b[1;32m    167\u001b[0m                                        \u001b[0mK\u001b[0m\u001b[0;34m=\u001b[0m\u001b[0mK\u001b[0m\u001b[0;34m,\u001b[0m \u001b[0moutput_path\u001b[0m\u001b[0;34m=\u001b[0m\u001b[0mdense_path\u001b[0m\u001b[0;34m,\u001b[0m\u001b[0;34m\u001b[0m\u001b[0m\n\u001b[1;32m    168\u001b[0m                                        \u001b[0mconvergeThr\u001b[0m\u001b[0;34m=\u001b[0m\u001b[0mtol\u001b[0m\u001b[0;34m,\u001b[0m \u001b[0mnLap\u001b[0m\u001b[0;34m=\u001b[0m\u001b[0mmax_laps\u001b[0m\u001b[0;34m,\u001b[0m\u001b[0;34m\u001b[0m\u001b[0m\n\u001b[0;32m--> 169\u001b[0;31m                                        printEvery=25, nTask=n_task)\n\u001b[0m\u001b[1;32m    170\u001b[0m     \u001b[0mdense_label\u001b[0m \u001b[0;34m=\u001b[0m \u001b[0;34m'Dense %s %s'\u001b[0m \u001b[0;34m%\u001b[0m \u001b[0;34m(\u001b[0m\u001b[0mobs_model\u001b[0m\u001b[0;34m,\u001b[0m \u001b[0malg\u001b[0m\u001b[0;34m)\u001b[0m\u001b[0;34m\u001b[0m\u001b[0m\n\u001b[1;32m    171\u001b[0m     \u001b[0mtaskid\u001b[0m \u001b[0;34m=\u001b[0m \u001b[0mdense_dict\u001b[0m\u001b[0;34m[\u001b[0m\u001b[0;34m'taskid'\u001b[0m\u001b[0;34m]\u001b[0m\u001b[0;34m\u001b[0m\u001b[0m\n",
      "\u001b[0;32m/Users/debora/Projects/bnpy/bnpy/Run.pyc\u001b[0m in \u001b[0;36mrun\u001b[0;34m(dataName, allocModelName, obsModelName, algName, doSaveToDisk, doWriteStdOut, taskID, **kwargs)\u001b[0m\n\u001b[1;32m     92\u001b[0m             \u001b[0mdataName\u001b[0m\u001b[0;34m,\u001b[0m \u001b[0mallocModelName\u001b[0m\u001b[0;34m,\u001b[0m\u001b[0;34m\u001b[0m\u001b[0m\n\u001b[1;32m     93\u001b[0m             \u001b[0mobsModelName\u001b[0m\u001b[0;34m,\u001b[0m \u001b[0malgName\u001b[0m\u001b[0;34m,\u001b[0m\u001b[0;34m\u001b[0m\u001b[0m\n\u001b[0;32m---> 94\u001b[0;31m             doSaveToDisk, doWriteStdOut)\n\u001b[0m\u001b[1;32m     95\u001b[0m         \u001b[0;32mif\u001b[0m \u001b[0;34m(\u001b[0m\u001b[0mtaskid\u001b[0m \u001b[0;34m==\u001b[0m \u001b[0mstarttaskid\u001b[0m \u001b[0;32mor\u001b[0m \u001b[0minfo_dict\u001b[0m\u001b[0;34m[\u001b[0m\u001b[0;34m'loss'\u001b[0m\u001b[0;34m]\u001b[0m \u001b[0;34m<\u001b[0m \u001b[0mbest_loss\u001b[0m\u001b[0;34m)\u001b[0m\u001b[0;34m:\u001b[0m\u001b[0;34m\u001b[0m\u001b[0m\n\u001b[1;32m     96\u001b[0m             \u001b[0mbestModel\u001b[0m \u001b[0;34m=\u001b[0m \u001b[0mhmodel\u001b[0m\u001b[0;34m\u001b[0m\u001b[0m\n",
      "\u001b[0;32m/Users/debora/Projects/bnpy/bnpy/Run.pyc\u001b[0m in \u001b[0;36m_run_task_internal\u001b[0;34m(jobname, taskid, nTask, ReqArgs, KwArgs, UnkArgs, dataName, allocModelName, obsModelName, algName, doSaveToDisk, doWriteStdOut)\u001b[0m\n\u001b[1;32m    222\u001b[0m \u001b[0;34m\u001b[0m\u001b[0m\n\u001b[1;32m    223\u001b[0m     \u001b[0;31m# Fit the model to the data!\u001b[0m\u001b[0;34m\u001b[0m\u001b[0;34m\u001b[0m\u001b[0m\n\u001b[0;32m--> 224\u001b[0;31m     \u001b[0mRunInfo\u001b[0m \u001b[0;34m=\u001b[0m \u001b[0mlearnAlg\u001b[0m\u001b[0;34m.\u001b[0m\u001b[0mfit\u001b[0m\u001b[0;34m(\u001b[0m\u001b[0mhmodel\u001b[0m\u001b[0;34m,\u001b[0m \u001b[0mData\u001b[0m\u001b[0;34m)\u001b[0m\u001b[0;34m\u001b[0m\u001b[0m\n\u001b[0m\u001b[1;32m    225\u001b[0m     \u001b[0mRunInfo\u001b[0m\u001b[0;34m[\u001b[0m\u001b[0;34m'UnkArgs'\u001b[0m\u001b[0;34m]\u001b[0m \u001b[0;34m=\u001b[0m \u001b[0mUnkArgs\u001b[0m\u001b[0;34m\u001b[0m\u001b[0m\n\u001b[1;32m    226\u001b[0m     \u001b[0mRunInfo\u001b[0m\u001b[0;34m[\u001b[0m\u001b[0;34m'KwArgs'\u001b[0m\u001b[0;34m]\u001b[0m \u001b[0;34m=\u001b[0m \u001b[0mKwArgs\u001b[0m\u001b[0;34m\u001b[0m\u001b[0m\n",
      "\u001b[0;32m/Users/debora/Projects/bnpy/bnpy/learnalg/VBAlg.pyc\u001b[0m in \u001b[0;36mfit\u001b[0;34m(self, hmodel, Data, LP)\u001b[0m\n\u001b[1;32m     45\u001b[0m             \u001b[0mself\u001b[0m\u001b[0;34m.\u001b[0m\u001b[0malgParamsLP\u001b[0m\u001b[0;34m[\u001b[0m\u001b[0;34m'lapFrac'\u001b[0m\u001b[0;34m]\u001b[0m \u001b[0;34m=\u001b[0m \u001b[0mlap\u001b[0m  \u001b[0;31m# logging\u001b[0m\u001b[0;34m\u001b[0m\u001b[0m\n\u001b[1;32m     46\u001b[0m             \u001b[0mself\u001b[0m\u001b[0;34m.\u001b[0m\u001b[0malgParamsLP\u001b[0m\u001b[0;34m[\u001b[0m\u001b[0;34m'batchID'\u001b[0m\u001b[0;34m]\u001b[0m \u001b[0;34m=\u001b[0m \u001b[0;36m1\u001b[0m\u001b[0;34m\u001b[0m\u001b[0m\n\u001b[0;32m---> 47\u001b[0;31m             \u001b[0mLP\u001b[0m \u001b[0;34m=\u001b[0m \u001b[0mhmodel\u001b[0m\u001b[0;34m.\u001b[0m\u001b[0mcalc_local_params\u001b[0m\u001b[0;34m(\u001b[0m\u001b[0mData\u001b[0m\u001b[0;34m,\u001b[0m \u001b[0mLP\u001b[0m\u001b[0;34m,\u001b[0m \u001b[0;34m**\u001b[0m\u001b[0mself\u001b[0m\u001b[0;34m.\u001b[0m\u001b[0malgParamsLP\u001b[0m\u001b[0;34m)\u001b[0m\u001b[0;34m\u001b[0m\u001b[0m\n\u001b[0m\u001b[1;32m     48\u001b[0m \u001b[0;34m\u001b[0m\u001b[0m\n\u001b[1;32m     49\u001b[0m             \u001b[0;31m# Summary step\u001b[0m\u001b[0;34m\u001b[0m\u001b[0;34m\u001b[0m\u001b[0m\n",
      "\u001b[0;32m/Users/debora/Projects/bnpy/bnpy/HModel.pyc\u001b[0m in \u001b[0;36mcalc_local_params\u001b[0;34m(self, Data, LP, doLogElapsedTime, **kwargs)\u001b[0m\n\u001b[1;32m     78\u001b[0m         \u001b[0;31m# Combine with allocModel probs of each cluster\u001b[0m\u001b[0;34m\u001b[0m\u001b[0;34m\u001b[0m\u001b[0m\n\u001b[1;32m     79\u001b[0m         \u001b[0;31m# Fills in LP['resp'], N x K array whose rows sum to one\u001b[0m\u001b[0;34m\u001b[0m\u001b[0;34m\u001b[0m\u001b[0m\n\u001b[0;32m---> 80\u001b[0;31m         \u001b[0mLP\u001b[0m \u001b[0;34m=\u001b[0m \u001b[0mself\u001b[0m\u001b[0;34m.\u001b[0m\u001b[0mallocModel\u001b[0m\u001b[0;34m.\u001b[0m\u001b[0mcalc_local_params\u001b[0m\u001b[0;34m(\u001b[0m\u001b[0mData\u001b[0m\u001b[0;34m,\u001b[0m \u001b[0mLP\u001b[0m\u001b[0;34m,\u001b[0m \u001b[0;34m**\u001b[0m\u001b[0mkwargs\u001b[0m\u001b[0;34m)\u001b[0m\u001b[0;34m\u001b[0m\u001b[0m\n\u001b[0m\u001b[1;32m     81\u001b[0m         \u001b[0;32mif\u001b[0m \u001b[0mdoLogElapsedTime\u001b[0m\u001b[0;34m:\u001b[0m\u001b[0;34m\u001b[0m\u001b[0m\n\u001b[1;32m     82\u001b[0m             \u001b[0mElapsedTimeLogger\u001b[0m\u001b[0;34m.\u001b[0m\u001b[0mstopEvent\u001b[0m\u001b[0;34m(\u001b[0m\u001b[0;34m'local'\u001b[0m\u001b[0;34m,\u001b[0m \u001b[0;34m'allocupdate'\u001b[0m\u001b[0;34m)\u001b[0m\u001b[0;34m\u001b[0m\u001b[0m\n",
      "\u001b[0;32m/Users/debora/Projects/bnpy/bnpy/allocmodel/hmm/FiniteHMM.pyc\u001b[0m in \u001b[0;36mcalc_local_params\u001b[0;34m(self, Data, LP, nnzPerRowLP, blockedLP, **kwargs)\u001b[0m\n\u001b[1;32m    161\u001b[0m             \u001b[0mseqResp\u001b[0m\u001b[0;34m,\u001b[0m \u001b[0mseqRespPair\u001b[0m\u001b[0;34m,\u001b[0m \u001b[0mseqLogMargPr\u001b[0m \u001b[0;34m=\u001b[0m\u001b[0;31m \u001b[0m\u001b[0;31m\\\u001b[0m\u001b[0;34m\u001b[0m\u001b[0m\n\u001b[1;32m    162\u001b[0m                 HMMUtil.FwdBwdAlg(initParam, transParam, logSoftEv_n,\n\u001b[0;32m--> 163\u001b[0;31m                 \t              nnzPerRowLP, blocked=blockedLP)\n\u001b[0m\u001b[1;32m    164\u001b[0m \u001b[0;34m\u001b[0m\u001b[0m\n\u001b[1;32m    165\u001b[0m             \u001b[0mresp\u001b[0m\u001b[0;34m[\u001b[0m\u001b[0mstart\u001b[0m\u001b[0;34m:\u001b[0m\u001b[0mstop\u001b[0m\u001b[0;34m]\u001b[0m \u001b[0;34m=\u001b[0m \u001b[0mseqResp\u001b[0m\u001b[0;34m\u001b[0m\u001b[0m\n",
      "\u001b[0;32m/Users/debora/Projects/bnpy/bnpy/allocmodel/hmm/HMMUtil_mar6.pyc\u001b[0m in \u001b[0;36mFwdBwdAlg\u001b[0;34m(PiInit, PiMat, logSoftEv, nnzPerRowLP, blocked)\u001b[0m\n\u001b[1;32m    205\u001b[0m         \u001b[0mresp\u001b[0m \u001b[0;34m=\u001b[0m \u001b[0mfmsg\u001b[0m \u001b[0;34m*\u001b[0m \u001b[0mbmsg\u001b[0m \u001b[0;31m# (T, L)\u001b[0m\u001b[0;34m\u001b[0m\u001b[0m\n\u001b[1;32m    206\u001b[0m         respPair = calcRespPair_forloop(PiMat, SoftEv, margPrObs,\n\u001b[0;32m--> 207\u001b[0;31m                                         fmsg, bmsg, K, T, top_colids)\n\u001b[0m\u001b[1;32m    208\u001b[0m \u001b[0;34m\u001b[0m\u001b[0m\n\u001b[1;32m    209\u001b[0m         \u001b[0;31m#print resp.shape\u001b[0m\u001b[0;34m\u001b[0m\u001b[0;34m\u001b[0m\u001b[0m\n",
      "\u001b[0;32m/Users/debora/Projects/bnpy/bnpy/allocmodel/hmm/HMMUtil_mar6.pyc\u001b[0m in \u001b[0;36mcalcRespPair_forloop\u001b[0;34m(PiMat, SoftEv, margPrObs, fmsg, bmsg, K, T, top_colids)\u001b[0m\n\u001b[1;32m    306\u001b[0m         \u001b[0mrespPair\u001b[0m \u001b[0;34m=\u001b[0m \u001b[0mnp\u001b[0m\u001b[0;34m.\u001b[0m\u001b[0mzeros\u001b[0m\u001b[0;34m(\u001b[0m\u001b[0;34m(\u001b[0m\u001b[0mT\u001b[0m\u001b[0;34m,\u001b[0m \u001b[0mK\u001b[0m\u001b[0;34m,\u001b[0m \u001b[0mK\u001b[0m\u001b[0;34m)\u001b[0m\u001b[0;34m)\u001b[0m\u001b[0;34m\u001b[0m\u001b[0m\n\u001b[1;32m    307\u001b[0m         \u001b[0;32mfor\u001b[0m \u001b[0mt\u001b[0m \u001b[0;32min\u001b[0m \u001b[0mxrange\u001b[0m\u001b[0;34m(\u001b[0m\u001b[0;36m1\u001b[0m\u001b[0;34m,\u001b[0m \u001b[0mT\u001b[0m\u001b[0;34m)\u001b[0m\u001b[0;34m:\u001b[0m\u001b[0;34m\u001b[0m\u001b[0m\n\u001b[0;32m--> 308\u001b[0;31m             \u001b[0mrespPair\u001b[0m\u001b[0;34m[\u001b[0m\u001b[0mt\u001b[0m\u001b[0;34m]\u001b[0m \u001b[0;34m=\u001b[0m \u001b[0mnp\u001b[0m\u001b[0;34m.\u001b[0m\u001b[0mouter\u001b[0m\u001b[0;34m(\u001b[0m\u001b[0mfmsg\u001b[0m\u001b[0;34m[\u001b[0m\u001b[0mt\u001b[0m \u001b[0;34m-\u001b[0m \u001b[0;36m1\u001b[0m\u001b[0;34m]\u001b[0m\u001b[0;34m,\u001b[0m \u001b[0mbmsg\u001b[0m\u001b[0;34m[\u001b[0m\u001b[0mt\u001b[0m\u001b[0;34m]\u001b[0m \u001b[0;34m*\u001b[0m \u001b[0mSoftEv\u001b[0m\u001b[0;34m[\u001b[0m\u001b[0mt\u001b[0m\u001b[0;34m]\u001b[0m\u001b[0;34m)\u001b[0m\u001b[0;34m\u001b[0m\u001b[0m\n\u001b[0m\u001b[1;32m    309\u001b[0m             \u001b[0mrespPair\u001b[0m\u001b[0;34m[\u001b[0m\u001b[0mt\u001b[0m\u001b[0;34m]\u001b[0m \u001b[0;34m*=\u001b[0m \u001b[0mPiMat\u001b[0m \u001b[0;34m/\u001b[0m \u001b[0mmargPrObs\u001b[0m\u001b[0;34m[\u001b[0m\u001b[0mt\u001b[0m\u001b[0;34m]\u001b[0m\u001b[0;34m\u001b[0m\u001b[0m\n\u001b[1;32m    310\u001b[0m     \u001b[0;32mreturn\u001b[0m \u001b[0mrespPair\u001b[0m\u001b[0;34m\u001b[0m\u001b[0m\n",
      "\u001b[0;32m/Users/debora/anaconda2/lib/python2.7/site-packages/numpy/core/numeric.pyc\u001b[0m in \u001b[0;36mouter\u001b[0;34m(a, b, out)\u001b[0m\n\u001b[1;32m   1152\u001b[0m     \u001b[0ma\u001b[0m \u001b[0;34m=\u001b[0m \u001b[0masarray\u001b[0m\u001b[0;34m(\u001b[0m\u001b[0ma\u001b[0m\u001b[0;34m)\u001b[0m\u001b[0;34m\u001b[0m\u001b[0m\n\u001b[1;32m   1153\u001b[0m     \u001b[0mb\u001b[0m \u001b[0;34m=\u001b[0m \u001b[0masarray\u001b[0m\u001b[0;34m(\u001b[0m\u001b[0mb\u001b[0m\u001b[0;34m)\u001b[0m\u001b[0;34m\u001b[0m\u001b[0m\n\u001b[0;32m-> 1154\u001b[0;31m     \u001b[0;32mreturn\u001b[0m \u001b[0mmultiply\u001b[0m\u001b[0;34m(\u001b[0m\u001b[0ma\u001b[0m\u001b[0;34m.\u001b[0m\u001b[0mravel\u001b[0m\u001b[0;34m(\u001b[0m\u001b[0;34m)\u001b[0m\u001b[0;34m[\u001b[0m\u001b[0;34m:\u001b[0m\u001b[0;34m,\u001b[0m \u001b[0mnewaxis\u001b[0m\u001b[0;34m]\u001b[0m\u001b[0;34m,\u001b[0m \u001b[0mb\u001b[0m\u001b[0;34m.\u001b[0m\u001b[0mravel\u001b[0m\u001b[0;34m(\u001b[0m\u001b[0;34m)\u001b[0m\u001b[0;34m[\u001b[0m\u001b[0mnewaxis\u001b[0m\u001b[0;34m,\u001b[0m\u001b[0;34m:\u001b[0m\u001b[0;34m]\u001b[0m\u001b[0;34m,\u001b[0m \u001b[0mout\u001b[0m\u001b[0;34m)\u001b[0m\u001b[0;34m\u001b[0m\u001b[0m\n\u001b[0m\u001b[1;32m   1155\u001b[0m \u001b[0;34m\u001b[0m\u001b[0m\n\u001b[1;32m   1156\u001b[0m \u001b[0;34m\u001b[0m\u001b[0m\n",
      "\u001b[0;31mKeyboardInterrupt\u001b[0m: "
     ]
    }
   ],
   "source": [
    "# Load data\n",
    "mocap_path = os.path.join(bnpy.DATASET_PATH, 'mocap6', 'dataset.mat')\n",
    "mocap_dataset = bnpy.data.GroupXData.read_mat(mocap_path)\n",
    "\n",
    "# Define hyperparameters\n",
    "obs_model = 'AutoRegGauss' \n",
    "K = 20\n",
    "out_path = '/tmp/mocap6-K=%d' % (K)\n",
    "\n",
    "mocap_experiment = util.run_experiment(mocap_dataset, alloc_model, obs_model, alg, K, out_path, n_task=1)"
   ]
  },
  {
   "cell_type": "code",
   "execution_count": null,
   "metadata": {
    "collapsed": true,
    "scrolled": false
   },
   "outputs": [],
   "source": [
    "plot_loss(mocap_experiment)"
   ]
  },
  {
   "cell_type": "code",
   "execution_count": null,
   "metadata": {
    "collapsed": true
   },
   "outputs": [],
   "source": [
    "def plot_loss(experiment_out, title=None):    \n",
    "    # Plot loss vs iteration, and save info for plotting loss vs L\n",
    "    L_vals = []\n",
    "    sparse_loss = []\n",
    "    blocked_loss = []\n",
    "    colors = ['red', 'green', 'blue', 'orange', 'purple']\n",
    "    \n",
    "    for model, info_dict, label in experiment_out:\n",
    "        loss = info_dict['loss']\n",
    "        alg_dict = info_dict['KwArgs']['VB']\n",
    "        L = alg_dict['nnzPerRowLP']\n",
    "        blocked = alg_dict['blockedLP']\n",
    "        \n",
    "        # Plot loss vs iteration\n",
    "        marker = '--' if blocked else '-'\n",
    "        color = colors[L%5] if L > 0 else 'yellow'\n",
    "        plt.plot(info_dict['lap_history'], info_dict['loss_history'],\n",
    "                 label=label, linestyle=marker, color=color, linewidth=3)\n",
    "        \n",
    "        # Gather info for plotting loss vs L\n",
    "        if L == 0 or L == 1:\n",
    "            L_tmp = L if L == 1 else info_dict['K_history'][-1]\n",
    "            L_vals.append(L_tmp)\n",
    "\n",
    "            blocked_loss.append(loss)\n",
    "            sparse_loss.append(loss)\n",
    "        elif blocked:\n",
    "            L_vals.append(L)\n",
    "            blocked_loss.append(loss)\n",
    "        else:\n",
    "            sparse_loss.append(loss)\n",
    "\n",
    "    plt.xlabel('iteration')\n",
    "    plt.ylabel('loss')\n",
    "    plt.legend()\n",
    "    if title is not None: plt.title(title)\n",
    "    plt.show()\n",
    "\n",
    "    # Plot loss vs L\n",
    "    plt.plot(L_vals[:-1], sparse_loss[:-1], label='One-pass sparse model', marker='o', linewidth=3)\n",
    "    plt.plot(L_vals[:-1], blocked_loss[:-1], label='Two-pass sparse model', marker='o', linewidth=3)\n",
    "    plt.hlines(sparse_loss[-1], L_vals[0], L_vals[-2], label='Dense model')\n",
    "    plt.xlabel('L')\n",
    "    plt.ylabel('loss')\n",
    "    plt.legend()\n",
    "    if title is not None: plt.title(title)\n",
    "    plt.show()"
   ]
  },
  {
   "cell_type": "code",
   "execution_count": null,
   "metadata": {
    "collapsed": true
   },
   "outputs": [],
   "source": [
    "plot_hamming(mocap_experiment)"
   ]
  },
  {
   "cell_type": "code",
   "execution_count": null,
   "metadata": {
    "collapsed": true
   },
   "outputs": [],
   "source": [
    "def plot_hamming(experiment_out, title=None):\n",
    "    L_vals = []\n",
    "    sparse_ham = []\n",
    "    blocked_ham = []\n",
    "    colors = ['red', 'green', 'blue', 'orange', 'purple']\n",
    "    \n",
    "    for model, info_dict, label in experiment_out:\n",
    "        alg_dict = info_dict['KwArgs']['VB']\n",
    "        L = alg_dict['nnzPerRowLP']\n",
    "        blocked = alg_dict['blockedLP']\n",
    "        \n",
    "        ham_dist_history = compute_hamming(info_dict)\n",
    "        ham_dist = ham_dist_history[-1]\n",
    "        \n",
    "        # Plot Hamming distance vs iteration\n",
    "        marker = '--' if blocked else '-'\n",
    "        color = colors[L%5] if L > 0 else 'yellow'\n",
    "        plt.plot(info_dict['lap_history'], ham_dist_history,\n",
    "                 label=label, linestyle=marker, color=color, linewidth=3)\n",
    "\n",
    "        # Gather info for plotting loss vs L\n",
    "        if L == 0 or L == 1:\n",
    "            L_tmp = L if L == 1 else info_dict['K_history'][-1]\n",
    "            L_vals.append(L_tmp)\n",
    "\n",
    "            blocked_ham.append(ham_dist)\n",
    "            sparse_ham.append(ham_dist)\n",
    "        elif alg_dict['blockedLP']:\n",
    "            L_vals.append(L)\n",
    "            blocked_ham.append(ham_dist)\n",
    "        else:\n",
    "            sparse_ham.append(ham_dist)\n",
    "\n",
    "    plt.xlabel('iteration')\n",
    "    plt.ylabel('Hamming distance')\n",
    "    plt.legend()\n",
    "    if title: plt.title(title)\n",
    "    plt.show()\n",
    "\n",
    "    plt.plot(L_vals[:-1], sparse_ham[:-1], label='One-pass sparse', marker='o', linewidth=3, markersize=3)\n",
    "    plt.plot(L_vals[:-1], blocked_ham[:-1], label='Two-pass sparse', marker='o', linewidth=3, markersize=3)\n",
    "    plt.hlines(sparse_ham[-1], L_vals[0], L_vals[-2], label='Dense model')\n",
    "    plt.xlabel('L')\n",
    "    plt.ylabel('Hamming distance')\n",
    "    plt.legend()\n",
    "    if title: plt.title(title)\n",
    "    plt.show()\n",
    "    \n",
    "def compute_hamming(model_dict):\n",
    "    dataset = model_dict['Data']\n",
    "    N = dataset.X.shape[0]\n",
    "    doc_range = dataset.doc_range\n",
    "    ztrue = dataset.TrueParams['Z'].flatten()\n",
    "    path = model_dict['task_output_path']\n",
    "    laps = np.concatenate(([0], model_dict['lap_history']))\n",
    "    ham_dist_history = np.empty_like(model_dict['lap_history'], dtype=float)\n",
    "    \n",
    "    # Iterate over laps\n",
    "    for lap in laps:\n",
    "        # Load model\n",
    "        model, _ = bnpy.load_model_at_lap(path, lap)\n",
    "    \n",
    "        # Load model parameters\n",
    "        init = model.allocModel.get_init_prob_vector()\n",
    "        trans = model.allocModel.get_trans_prob_matrix()\n",
    "        evidence = model.obsModel.calcLogSoftEvMatrix_FromPost(dataset)\n",
    "        \n",
    "        # Run Viterbi\n",
    "        zhat = np.empty(N)\n",
    "        for i, (start, end) in enumerate(zip(doc_range[:-1], doc_range[1:])):\n",
    "            zhat[start:end] = runViterbiAlg(evidence[start:end],\n",
    "                                            np.log(init), np.log(trans))\n",
    "        zhat_aligned = alignEstimatedStateSeqToTruth(zhat, ztrue)\n",
    "\n",
    "        # Compute Hamming distance\n",
    "        ham_dist_history[lap - 1] = calcHammingDistance(ztrue, zhat_aligned)\n",
    "        \n",
    "    return ham_dist_history"
   ]
  },
  {
   "cell_type": "markdown",
   "metadata": {},
   "source": [
    "# Speaker diarization dataset\n",
    "\n",
    "Following previous work, we chose meetings 11, 16, and 21."
   ]
  },
  {
   "cell_type": "code",
   "execution_count": null,
   "metadata": {
    "collapsed": true
   },
   "outputs": [],
   "source": [
    "from bnpy.data import SpeakerDiar\n",
    "num_meetings = len(SpeakerDiar.fileNames)\n",
    "meeting_ids = [11, 16, 21]\n",
    "all_meeting_data = [SpeakerDiar.get_data(i) for i in meeting_ids]"
   ]
  },
  {
   "cell_type": "code",
   "execution_count": null,
   "metadata": {
    "collapsed": true
   },
   "outputs": [],
   "source": [
    "K = 25"
   ]
  },
  {
   "cell_type": "code",
   "execution_count": null,
   "metadata": {
    "collapsed": true,
    "scrolled": true
   },
   "outputs": [],
   "source": [
    "spkr_dataset = all_meeting_data[0]\n",
    "out_path = '/tmp/spkr-K=%d' % (K)\n",
    "obs_model = 'Gauss'\n",
    "spkr_experiment = util.run_experiment(spkr_dataset, alloc_model, obs_model, alg, K, out_path, n_task=1)"
   ]
  },
  {
   "cell_type": "code",
   "execution_count": null,
   "metadata": {
    "collapsed": true
   },
   "outputs": [],
   "source": [
    "plot_loss(spkr_experiment)"
   ]
  },
  {
   "cell_type": "code",
   "execution_count": null,
   "metadata": {
    "collapsed": true
   },
   "outputs": [],
   "source": [
    "plot_hamming(spkr_experiment)"
   ]
  },
  {
   "cell_type": "markdown",
   "metadata": {},
   "source": [
    "# Grid toy dataset"
   ]
  },
  {
   "cell_type": "code",
   "execution_count": null,
   "metadata": {
    "collapsed": true
   },
   "outputs": [],
   "source": [
    "N, T, D = 100, 10, 2\n",
    "n_rows = 3\n",
    "n_cols = 3\n",
    "K = n_rows * n_cols\n",
    "states, obs = util.sample_grid(N, T, n_rows, n_cols)"
   ]
  },
  {
   "cell_type": "code",
   "execution_count": null,
   "metadata": {
    "collapsed": true
   },
   "outputs": [],
   "source": [
    "X = obs.reshape((N*T, D))\n",
    "doc_range = np.arange(0, N*T+1, T)\n",
    "Z_true = states.flatten()\n",
    "grid_dataset = bnpy.data.GroupXData(X, doc_range, TrueZ=Z_true)"
   ]
  },
  {
   "cell_type": "code",
   "execution_count": null,
   "metadata": {},
   "outputs": [],
   "source": [
    "plt.scatter(X[:, 0], X[:, 1], c=Z_true)\n",
    "plt.show()"
   ]
  },
  {
   "cell_type": "code",
   "execution_count": null,
   "metadata": {},
   "outputs": [],
   "source": [
    "out_path = '/tmp/toy-K=%d' % (K)\n",
    "obs_model = 'DiagGauss'\n",
    "toy_experiment = util.run_experiment(grid_dataset, alloc_model, obs_model, alg, K, out_path, n_task=5)"
   ]
  },
  {
   "cell_type": "code",
   "execution_count": null,
   "metadata": {},
   "outputs": [],
   "source": [
    "util.plot_loss(toy_experiment)"
   ]
  },
  {
   "cell_type": "code",
   "execution_count": null,
   "metadata": {},
   "outputs": [],
   "source": [
    "util.plot_hamming(toy_experiment)"
   ]
  },
  {
   "cell_type": "code",
   "execution_count": null,
   "metadata": {
    "collapsed": true
   },
   "outputs": [],
   "source": []
  },
  {
   "cell_type": "code",
   "execution_count": 9,
   "metadata": {},
   "outputs": [
    {
     "data": {
      "text/plain": [
       "array([ 0.,  0.,  0.,  0.,  0.,  0.,  0.,  0.,  0.,  0.,  0.,  0.,  0.,\n",
       "        0.,  0.,  0.,  0.,  0.,  0.,  0.,  0.,  0.,  0.,  0.,  0.,  0.,\n",
       "        0.,  0.,  0.,  0.,  0.,  0.,  0.,  0.,  0.,  0.,  0.,  0.,  5.,\n",
       "        5.,  5.,  5.,  5.,  5.,  5.,  5.,  5.,  5.,  5.,  5.,  5.,  5.,\n",
       "        5.,  5.,  5.,  5.,  5.,  5.,  5.,  5.,  5.,  5.,  5.,  5.,  5.,\n",
       "        5.,  5.,  5.,  5.,  5.,  5.,  5.,  5.,  5.,  5.,  5.,  5.,  5.,\n",
       "        5.,  5.,  5.,  5.,  5.,  5.,  5.,  5.,  5.,  5.,  5.,  5.,  5.,\n",
       "        5.,  5.,  5.,  5.,  5.,  5.,  5.,  5.,  5.,  4.,  4.,  4.,  4.,\n",
       "        4.,  4.,  4.,  4.,  4.,  4.,  4.,  4.,  4.,  4.,  4.,  4.,  4.,\n",
       "        4.,  4.,  4.,  4.,  4.,  4.,  4.,  4.,  4.,  4.,  4.,  4.,  4.,\n",
       "        4.,  4.,  4.,  4.,  4.,  4.,  4.,  4.,  4.,  4.,  4.,  4.,  4.,\n",
       "        4.,  4.,  4.,  4.,  4.,  4.,  4.,  4.,  4.,  4.,  4.,  4.,  4.,\n",
       "        4.,  4.,  4.,  9.,  9.,  9.,  9.,  9.,  9.,  9.,  9.,  9.,  9.,\n",
       "        9.,  9.,  9.,  9.,  9.,  9.,  9.,  9.,  9.,  9.,  9.,  9.,  9.,\n",
       "        9.,  9.,  9.,  9.,  9.,  9.,  9.,  9.,  9.,  9.,  9.,  9.,  9.,\n",
       "        9.,  9.,  9.,  9.,  9.,  9.,  9.,  9.,  9.,  9.,  9.,  9.,  9.,\n",
       "        9.,  9.,  9.,  9.,  9.,  9.,  9.,  9.,  9.,  9.,  9.,  9.,  9.,\n",
       "        9.,  9.,  9.,  3.,  3.,  3.,  3.,  3.,  3.,  3.,  3.,  3.,  3.,\n",
       "        3.,  3.,  3.,  3.,  3.,  3.,  3.,  3.,  3.,  3.,  3.,  3.,  3.,\n",
       "        3.,  3.,  3.,  3.,  3.,  3.,  3.,  3.,  3.,  3.,  3.,  3.,  3.,\n",
       "        3.,  3.,  3.,  3.,  3.,  3.,  3.,  3.,  3.,  3.,  3.,  3.,  3.,\n",
       "        3.,  3.,  3.,  3.,  3.,  3.,  3.,  3.,  3.,  3.,  3.,  3.,  3.,\n",
       "        3.,  3.,  3.,  3.,  3.,  3.,  3.,  3.,  3.,  3.,  3.,  3.,  3.,\n",
       "        3.,  3.,  3.,  3.,  3.,  3.,  3.,  3.,  3.,  3.,  3.,  3.,  3.,\n",
       "        3.,  3.,  3.,  3.,  2.,  2.,  2.,  2.,  2.,  2.,  2.,  2.,  2.,\n",
       "        2.,  2.,  2.,  2.,  2.,  2.,  2.,  2.,  2.,  2.,  2.,  2.,  2.,\n",
       "        2.,  2.,  2.,  2.,  2.,  2.,  2.,  2.,  2.,  2.,  2.,  2.,  2.,\n",
       "        2.,  2.,  2.,  2.,  2.,  2.,  2.,  2.,  2.,  2.,  2.,  2.,  2.,\n",
       "        2.,  2.,  2.,  2.,  2.,  2.,  2.,  2.,  2.,  2.,  2.,  2.,  2.,\n",
       "        2.,  2.,  2.,  2.,  2.])"
      ]
     },
     "execution_count": 9,
     "metadata": {},
     "output_type": "execute_result"
    }
   ],
   "source": [
    "mocap_dataset.TrueParams['Z'][0:382]"
   ]
  },
  {
   "cell_type": "code",
   "execution_count": 8,
   "metadata": {},
   "outputs": [
    {
     "data": {
      "text/plain": [
       "array([   0,  382,  587,  838, 1284, 1671, 2058], dtype=int32)"
      ]
     },
     "execution_count": 8,
     "metadata": {},
     "output_type": "execute_result"
    }
   ],
   "source": [
    "mocap_dataset.doc_range"
   ]
  },
  {
   "cell_type": "code",
   "execution_count": null,
   "metadata": {
    "collapsed": true
   },
   "outputs": [],
   "source": []
  }
 ],
 "metadata": {
  "kernelspec": {
   "display_name": "Python 2",
   "language": "python",
   "name": "python2"
  },
  "language_info": {
   "codemirror_mode": {
    "name": "ipython",
    "version": 2
   },
   "file_extension": ".py",
   "mimetype": "text/x-python",
   "name": "python",
   "nbconvert_exporter": "python",
   "pygments_lexer": "ipython2",
   "version": "2.7.13"
  }
 },
 "nbformat": 4,
 "nbformat_minor": 2
}

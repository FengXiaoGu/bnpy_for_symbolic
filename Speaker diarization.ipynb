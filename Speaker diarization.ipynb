{
 "cells": [
  {
   "cell_type": "code",
   "execution_count": 1,
   "metadata": {
    "collapsed": true
   },
   "outputs": [],
   "source": [
    "import bnpy\n",
    "import numpy as np\n",
    "import os\n",
    "from scipy import stats\n",
    "\n",
    "import matplotlib\n",
    "from matplotlib import pylab\n",
    "from bnpy.data import SpeakerDiar\n",
    "%matplotlib inline\n",
    "\n",
    "np.set_printoptions(suppress=1, precision=3)\n",
    "\n",
    "FIG_SIZE = (10, 5)\n",
    "pylab.rcParams['figure.figsize'] = FIG_SIZE"
   ]
  },
  {
   "cell_type": "code",
   "execution_count": 2,
   "metadata": {},
   "outputs": [],
   "source": [
    "num_meetings = len(SpeakerDiar.fileNames)\n",
    "all_meeting_data = [SpeakerDiar.get_data(i+1) for i in xrange(num_meetings)]"
   ]
  },
  {
   "cell_type": "code",
   "execution_count": 4,
   "metadata": {
    "collapsed": true
   },
   "outputs": [],
   "source": [
    "K = 25\n",
    "L = 5"
   ]
  },
  {
   "cell_type": "code",
   "execution_count": null,
   "metadata": {},
   "outputs": [],
   "source": [
    "dataset = all_meeting_data[0]\n",
    "viterbi_gauss_model, viterbi_gauss_info_dict = bnpy.run(\n",
    "    dataset,\n",
    "    'FiniteHMM', 'Gauss', 'VB',\n",
    "    K=K, output_path=('/tmp/speaker/viterbi-K=%d' % (K)),\n",
    "    convergeThr=0.0001, nLap=200, printEvery=25, nnzPerRowLP=1)"
   ]
  },
  {
   "cell_type": "code",
   "execution_count": null,
   "metadata": {},
   "outputs": [],
   "source": [
    "blocked_gauss_model, blocked_gauss_info_dict = bnpy.run(\n",
    "    dataset,\n",
    "    'FiniteHMM', 'Gauss', 'VB',\n",
    "    K=K, output_path=('/tmp/speaker/blocked-K=%d' % (K)),\n",
    "    convergeThr=0.0001, nLap=200, printEvery=25, nnzPerRowLP=L, blockedLP=1)"
   ]
  },
  {
   "cell_type": "code",
   "execution_count": null,
   "metadata": {},
   "outputs": [],
   "source": [
    "sparse_gauss_model, sparse_gauss_info_dict = bnpy.run(\n",
    "    dataset,\n",
    "    'FiniteHMM', 'Gauss', 'VB',\n",
    "    K=K, output_path=('/tmp/speaker/sparse-K=%d' % (K)),\n",
    "    convergeThr=0.0001, nLap=200, printEvery=25, nnzPerRowLP=L, blockedLP=0)"
   ]
  },
  {
   "cell_type": "code",
   "execution_count": null,
   "metadata": {},
   "outputs": [],
   "source": [
    "dense_gauss_model, dense_gauss_info_dict = bnpy.run(\n",
    "    dataset,\n",
    "    'FiniteHMM', 'Gauss', 'VB',\n",
    "    K=K, output_path=('/tmp/speaker/dense-K=%d' % (K)),\n",
    "    convergeThr=0.0001, nLap=200, printEvery=25)"
   ]
  },
  {
   "cell_type": "code",
   "execution_count": null,
   "metadata": {},
   "outputs": [],
   "source": [
    "pylab.figure()\n",
    "markersize = 5\n",
    "\n",
    "pylab.plot(\n",
    "    viterbi_gauss_info_dict['lap_history'],\n",
    "    viterbi_gauss_info_dict['loss_history'], 'r-',\n",
    "    markersize=markersize,\n",
    "    label='Viterbi L=1 Gauss VB')\n",
    "\n",
    "pylab.plot(\n",
    "    sparse_gauss_info_dict['lap_history'],\n",
    "    sparse_gauss_info_dict['loss_history'], 'k-',\n",
    "    markersize=markersize,\n",
    "    label='Sparse L=5 Gauss VB')\n",
    "\n",
    "pylab.plot(\n",
    "    blocked_gauss_info_dict['lap_history'],\n",
    "    blocked_gauss_info_dict['loss_history'], 'g-',\n",
    "    markersize=markersize,\n",
    "    label='\"Blocked\" sparse L=5 Gauss VB')\n",
    "\n",
    "pylab.plot(\n",
    "    dense_gauss_info_dict['lap_history'],\n",
    "    dense_gauss_info_dict['loss_history'], 'b-',\n",
    "    markersize=markersize,\n",
    "    label='Dense Gauss VB')\n",
    "\n",
    "pylab.legend(loc='upper right')\n",
    "\n",
    "pylab.xlabel('num. laps')\n",
    "pylab.ylabel('loss: - log p(x)')\n",
    "pylab.draw()\n",
    "pylab.tight_layout()\n",
    "pylab.show()"
   ]
  },
  {
   "cell_type": "code",
   "execution_count": 3,
   "metadata": {},
   "outputs": [
    {
     "name": "stdout",
     "output_type": "stream",
     "text": [
      "21\n"
     ]
    }
   ],
   "source": [
    "print num_meetings"
   ]
  },
  {
   "cell_type": "code",
   "execution_count": null,
   "metadata": {
    "collapsed": true
   },
   "outputs": [],
   "source": []
  }
 ],
 "metadata": {
  "kernelspec": {
   "display_name": "Python 2",
   "language": "python",
   "name": "python2"
  },
  "language_info": {
   "codemirror_mode": {
    "name": "ipython",
    "version": 2
   },
   "file_extension": ".py",
   "mimetype": "text/x-python",
   "name": "python",
   "nbconvert_exporter": "python",
   "pygments_lexer": "ipython2",
   "version": "2.7.13"
  }
 },
 "nbformat": 4,
 "nbformat_minor": 2
}

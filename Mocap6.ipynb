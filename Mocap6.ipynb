{
 "cells": [
  {
   "cell_type": "code",
   "execution_count": 1,
   "metadata": {
    "collapsed": true
   },
   "outputs": [],
   "source": [
    "import bnpy\n",
    "import numpy as np\n",
    "import os\n",
    "from scipy import stats\n",
    "\n",
    "import matplotlib\n",
    "from matplotlib import pylab\n",
    "%matplotlib inline\n",
    "\n",
    "np.set_printoptions(suppress=1, precision=3)\n",
    "\n",
    "FIG_SIZE = (10, 5)\n",
    "pylab.rcParams['figure.figsize'] = FIG_SIZE"
   ]
  },
  {
   "cell_type": "code",
   "execution_count": 2,
   "metadata": {
    "collapsed": true
   },
   "outputs": [],
   "source": [
    "# Load data\n",
    "dataset_path = os.path.join(bnpy.DATASET_PATH, 'mocap6', 'dataset.mat')\n",
    "dataset = bnpy.data.GroupXData.read_mat(dataset_path)"
   ]
  },
  {
   "cell_type": "code",
   "execution_count": 3,
   "metadata": {
    "collapsed": true
   },
   "outputs": [],
   "source": [
    "K = 20\n",
    "L = 3"
   ]
  },
  {
   "cell_type": "code",
   "execution_count": null,
   "metadata": {},
   "outputs": [],
   "source": [
    "viterbi_gauss_model, viterbi_gauss_info_dict = bnpy.run(\n",
    "    dataset,\n",
    "    'FiniteHMM', 'Gauss', 'VB',\n",
    "    K=K, output_path=('/tmp/mocap6/viterbi-K=%d' % (K)),\n",
    "    convergeThr=0.0001, nLap=100, printEvery=25, nnzPerRowLP=1)"
   ]
  },
  {
   "cell_type": "code",
   "execution_count": null,
   "metadata": {},
   "outputs": [],
   "source": [
    "blocked_gauss_model, blocked_gauss_info_dict = bnpy.run(\n",
    "    dataset,\n",
    "    'FiniteHMM', 'Gauss', 'VB',\n",
    "    K=K, output_path=('/tmp/mocap6/viterbi-K=%d' % (K)),\n",
    "    convergeThr=0.0001, nLap=50, printEvery=25, nnzPerRowLP=L, blockedLP=1)"
   ]
  },
  {
   "cell_type": "code",
   "execution_count": null,
   "metadata": {
    "collapsed": true
   },
   "outputs": [],
   "source": [
    "sparse_gauss_model, sparse_gauss_info_dict = bnpy.run(\n",
    "    dataset,\n",
    "    'FiniteHMM', 'Gauss', 'VB',\n",
    "    K=K, output_path=('/tmp/mocap6/viterbi-K=%d' % (K)),\n",
    "    convergeThr=0.0001, nLap=100, printEvery=25, nnzPerRowLP=L, blockedLP=0)"
   ]
  },
  {
   "cell_type": "code",
   "execution_count": 9,
   "metadata": {},
   "outputs": [
    {
     "name": "stdout",
     "output_type": "stream",
     "text": [
      "Learn Alg: VB | task  7/1 | alg. seed: 9041408 | data order seed: 3441280\n",
      "task_output_path: /tmp/mocap6/viterbi-K=20/7\n",
      "        1/100 after      0 sec. |    149.5 MiB | K   20 | loss  3.561349153e+00 |  \n",
      "        2/100 after      0 sec. |    149.5 MiB | K   20 | loss  3.420812722e+00 | Ndiff   32.217 \n",
      "       25/100 after      6 sec. |    149.5 MiB | K   20 | loss  3.171709354e+00 | Ndiff    1.213 \n",
      "       50/100 after     11 sec. |    149.5 MiB | K   20 | loss  3.167086774e+00 | Ndiff    0.087 \n",
      "       75/100 after     17 sec. |    149.5 MiB | K   20 | loss  3.163603245e+00 | Ndiff    0.030 \n",
      "      100/100 after     22 sec. |    149.5 MiB | K   20 | loss  3.161969015e+00 | Ndiff    0.339 \n",
      "... done. not converged. max laps thru data exceeded.\n"
     ]
    },
    {
     "ename": "KeyError",
     "evalue": "'OutputPrefs'",
     "output_type": "error",
     "traceback": [
      "\u001b[0;31m---------------------------------------------------------------------------\u001b[0m",
      "\u001b[0;31mKeyError\u001b[0m                                  Traceback (most recent call last)",
      "\u001b[0;32m<ipython-input-9-dc4017e027f7>\u001b[0m in \u001b[0;36m<module>\u001b[0;34m()\u001b[0m\n\u001b[1;32m      3\u001b[0m     \u001b[0;34m'FiniteHMM'\u001b[0m\u001b[0;34m,\u001b[0m \u001b[0;34m'Gauss'\u001b[0m\u001b[0;34m,\u001b[0m \u001b[0;34m'VB'\u001b[0m\u001b[0;34m,\u001b[0m\u001b[0;34m\u001b[0m\u001b[0m\n\u001b[1;32m      4\u001b[0m     \u001b[0mK\u001b[0m\u001b[0;34m=\u001b[0m\u001b[0mK\u001b[0m\u001b[0;34m,\u001b[0m \u001b[0moutput_path\u001b[0m\u001b[0;34m=\u001b[0m\u001b[0;34m(\u001b[0m\u001b[0;34m'/tmp/mocap6/viterbi-K=%d'\u001b[0m \u001b[0;34m%\u001b[0m \u001b[0;34m(\u001b[0m\u001b[0mK\u001b[0m\u001b[0;34m)\u001b[0m\u001b[0;34m)\u001b[0m\u001b[0;34m,\u001b[0m\u001b[0;34m\u001b[0m\u001b[0m\n\u001b[0;32m----> 5\u001b[0;31m     convergeThr=0.0001, nLap=100, printEvery=25, taskid=7)\n\u001b[0m",
      "\u001b[0;32m/Users/debora/Projects/bnpy/bnpy/Run.py\u001b[0m in \u001b[0;36mrun\u001b[0;34m(dataName, allocModelName, obsModelName, algName, doSaveToDisk, doWriteStdOut, taskID, **kwargs)\u001b[0m\n\u001b[1;32m     97\u001b[0m             \u001b[0mbest_loss\u001b[0m \u001b[0;34m=\u001b[0m \u001b[0minfo_dict\u001b[0m\u001b[0;34m[\u001b[0m\u001b[0;34m'loss'\u001b[0m\u001b[0;34m]\u001b[0m\u001b[0;34m\u001b[0m\u001b[0m\n\u001b[1;32m     98\u001b[0m             \u001b[0mbest_info_dict\u001b[0m \u001b[0;34m=\u001b[0m \u001b[0minfo_dict\u001b[0m\u001b[0;34m\u001b[0m\u001b[0m\n\u001b[0;32m---> 99\u001b[0;31m             \u001b[0mbest_info_dict\u001b[0m\u001b[0;34m[\u001b[0m\u001b[0;34m'taskid'\u001b[0m\u001b[0;34m]\u001b[0m \u001b[0;34m=\u001b[0m \u001b[0mtaskid\u001b[0m\u001b[0;34m\u001b[0m\u001b[0m\n\u001b[0m\u001b[1;32m    100\u001b[0m     \u001b[0;32mreturn\u001b[0m \u001b[0mbestModel\u001b[0m\u001b[0;34m,\u001b[0m \u001b[0mbest_info_dict\u001b[0m\u001b[0;34m\u001b[0m\u001b[0m\n\u001b[1;32m    101\u001b[0m \u001b[0;34m\u001b[0m\u001b[0m\n",
      "\u001b[0;31mKeyError\u001b[0m: 'OutputPrefs'"
     ]
    }
   ],
   "source": [
    "dense_gauss_model, dense_gauss_info_dict = bnpy.run(\n",
    "    dataset,\n",
    "    'FiniteHMM', 'Gauss', 'VB',\n",
    "    K=K, output_path=('/tmp/mocap6/viterbi-K=%d' % (K)),\n",
    "    convergeThr=0.0001, nLap=100, printEvery=25, taskid=7)"
   ]
  },
  {
   "cell_type": "code",
   "execution_count": null,
   "metadata": {},
   "outputs": [],
   "source": [
    "sparse_argauss_model, sparse_argauss_info_dict = bnpy.run(\n",
    "    dataset,\n",
    "    'FiniteHMM', 'AutoRegGauss', 'VB',\n",
    "    K=K, output_path=('/tmp/mocap6/viterbi-K=%d' % (K)),\n",
    "    convergeThr=0.0001, nLap=100, printEvery=25, nnzPerRowLP=L)\n",
    "\n",
    "blocked_argauss_model, blocked_argauss_info_dict = bnpy.run(\n",
    "    dataset,\n",
    "    'FiniteHMM', 'AutoRegGauss', 'VB',\n",
    "    K=K, output_path=('/tmp/mocap6/viterbi-K=%d' % (K)),\n",
    "    convergeThr=0.0001, nLap=100, printEvery=25, nnzPerRowLP=L, blocked=1)"
   ]
  },
  {
   "cell_type": "code",
   "execution_count": null,
   "metadata": {},
   "outputs": [],
   "source": [
    "viterbi_argauss_model, viterbi_argauss_info_dict = bnpy.run(\n",
    "    dataset,\n",
    "    'FiniteHMM', 'AutoRegGauss', 'VB',\n",
    "    K=K, output_path=('/tmp/mocap6/viterbi-K=%d' % (K)),\n",
    "    convergeThr=0.0001, nLap=100, printEvery=25, nnzPerRowLP=1)\n",
    "\n",
    "dense_argauss_model, dense_argauss_info_dict = bnpy.run(\n",
    "    dataset,\n",
    "    'FiniteHMM', 'AutoRegGauss', 'VB',\n",
    "    K=K, output_path=('/tmp/mocap6/viterbi-K=%d' % (K)),\n",
    "    convergeThr=0.0001, nLap=100, printEvery=25)"
   ]
  },
  {
   "cell_type": "code",
   "execution_count": null,
   "metadata": {},
   "outputs": [],
   "source": [
    "sparse_argauss_model5, sparse_argauss_info_dict5 = bnpy.run(\n",
    "    dataset,\n",
    "    'FiniteHMM', 'AutoRegGauss', 'VB',\n",
    "    K=K, output_path=('/tmp/mocap6/viterbi-K=%d' % (K)),\n",
    "    convergeThr=0.0001, nLap=100, printEvery=25, nnzPerRowLP=5)\n",
    "\n",
    "blocked_argauss_model5, blocked_argauss_info_dict5 = bnpy.run(\n",
    "    dataset,\n",
    "    'FiniteHMM', 'AutoRegGauss', 'VB',\n",
    "    K=K, output_path=('/tmp/mocap6/viterbi-K=%d' % (K)),\n",
    "    convergeThr=0.0001, nLap=100, printEvery=25, nnzPerRowLP=5, blocked=1)"
   ]
  },
  {
   "cell_type": "code",
   "execution_count": null,
   "metadata": {},
   "outputs": [],
   "source": [
    "pylab.figure()\n",
    "markersize = 5\n",
    "\n",
    "pylab.plot(\n",
    "    viterbi_argauss_info_dict['lap_history'],\n",
    "    viterbi_argauss_info_dict['loss_history'], 'r-',\n",
    "    markersize=markersize,\n",
    "    label='Viterbi L=1 AutoRegGauss VB')\n",
    "\n",
    "pylab.plot(\n",
    "    sparse_argauss_info_dict['lap_history'],\n",
    "    sparse_argauss_info_dict['loss_history'], 'k-',\n",
    "    markersize=markersize,\n",
    "    label='Sparse L=%d AutoRegGauss VB' % L)\n",
    "\n",
    "pylab.plot(\n",
    "    blocked_argauss_info_dict['lap_history'],\n",
    "    blocked_argauss_info_dict['loss_history'], 'g-',\n",
    "    markersize=markersize,\n",
    "    label='\"Blocked\" sparse L=%d AutoRegGauss VB' % L)\n",
    "\n",
    "pylab.plot(\n",
    "    dense_argauss_info_dict['lap_history'],\n",
    "    dense_argauss_info_dict['loss_history'], 'b-',\n",
    "    markersize=markersize,\n",
    "    label='Dense AutoRegGauss VB')\n",
    "\n",
    "pylab.legend(loc='upper right')\n",
    "\n",
    "pylab.xlabel('num. laps')\n",
    "pylab.ylabel('loss: - log p(x)')\n",
    "pylab.draw()\n",
    "pylab.tight_layout()\n",
    "#pylab.ylim([None, 4])\n",
    "pylab.show()"
   ]
  },
  {
   "cell_type": "code",
   "execution_count": null,
   "metadata": {},
   "outputs": [],
   "source": [
    "pylab.figure()\n",
    "markersize = 5\n",
    "\n",
    "pylab.plot(\n",
    "    viterbi_argauss_info_dict['lap_history'],\n",
    "    viterbi_argauss_info_dict['loss_history'], 'r-',\n",
    "    markersize=markersize,\n",
    "    label='Viterbi L=1 AutoRegGauss VB')\n",
    "\n",
    "pylab.plot(\n",
    "    sparse_argauss_info_dict5['lap_history'],\n",
    "    sparse_argauss_info_dict5['loss_history'], 'k-',\n",
    "    markersize=markersize,\n",
    "    label='Sparse L=%d AutoRegGauss VB' % 5)\n",
    "\n",
    "pylab.plot(\n",
    "    blocked_argauss_info_dict5['lap_history'],\n",
    "    blocked_argauss_info_dict5['loss_history'], 'g-',\n",
    "    markersize=markersize,\n",
    "    label='\"Blocked\" sparse L=%d AutoRegGauss VB' % 5)\n",
    "\n",
    "pylab.plot(\n",
    "    dense_argauss_info_dict['lap_history'],\n",
    "    dense_argauss_info_dict['loss_history'], 'b-',\n",
    "    markersize=markersize,\n",
    "    label='Dense AutoRegGauss VB')\n",
    "\n",
    "pylab.legend(loc='upper right')\n",
    "\n",
    "pylab.xlabel('num. laps')\n",
    "pylab.ylabel('loss: - log p(x)')\n",
    "pylab.draw()\n",
    "pylab.tight_layout()\n",
    "#pylab.ylim([None, 4])\n",
    "pylab.show()"
   ]
  },
  {
   "cell_type": "code",
   "execution_count": null,
   "metadata": {},
   "outputs": [],
   "source": [
    "np.argsort([viterbi_argauss_info_dict['loss_history'][-1],\n",
    "sparse_argauss_info_dict['loss_history'][-1],\n",
    "blocked_argauss_info_dict['loss_history'][-1],\n",
    "dense_argauss_info_dict['loss_history'][-1]])"
   ]
  },
  {
   "cell_type": "code",
   "execution_count": null,
   "metadata": {
    "collapsed": true
   },
   "outputs": [],
   "source": [
    "pylab.figure()\n",
    "markersize = 5\n",
    "\n",
    "pylab.plot(\n",
    "    viterbi_gauss_info_dict['lap_history'],\n",
    "    viterbi_gauss_info_dict['loss_history'], 'rd-',\n",
    "    markersize=markersize,\n",
    "    label='Viterbi L=1 Gauss VB')\n",
    "\n",
    "pylab.plot(\n",
    "    sparse_gauss_info_dict['lap_history'],\n",
    "    sparse_gauss_info_dict['loss_history'], 'kd-',\n",
    "    markersize=markersize,\n",
    "    label='Sparse L=5 Gauss VB', alpha=0.5)\n",
    "\n",
    "pylab.plot(\n",
    "    blocked_gauss_info_dict['lap_history'],\n",
    "    blocked_gauss_info_dict['loss_history'], 'gd-',\n",
    "    markersize=markersize,\n",
    "    label='\"Blocked\" sparse L=5 Gauss VB')\n",
    "\n",
    "pylab.plot(\n",
    "    dense_gauss_info_dict['lap_history'],\n",
    "    dense_gauss_info_dict['loss_history'], 'bd-',\n",
    "    markersize=markersize,\n",
    "    label='Dense Gauss VB', alpha=0.3)\n",
    "\n",
    "pylab.legend(loc='upper right')\n",
    "\n",
    "pylab.xlabel('num. laps')\n",
    "pylab.ylabel('loss: - log p(x)')\n",
    "pylab.draw()\n",
    "pylab.tight_layout()\n",
    "#pylab.ylim([None, 4])\n",
    "pylab.show()"
   ]
  },
  {
   "cell_type": "code",
   "execution_count": null,
   "metadata": {
    "collapsed": true
   },
   "outputs": [],
   "source": [
    "def sample_hmm(N, T, K, D):\n",
    "    alpha = np.full(K, 1.0)\n",
    "    #print alpha\n",
    "    \n",
    "    pi0 = stats.dirichlet.rvs(alpha).reshape(K)\n",
    "    #print pi0, pi0.sum()\n",
    "    pi = stats.dirichlet.rvs(alpha, size=K)\n",
    "    #print pi, pi.sum(axis=1)\n",
    "    mu = stats.norm.rvs(np.tile(np.arange(0, 10*K, 10), (D, 1)).T, size=(K, D))\n",
    "    #print mu\n",
    "    \n",
    "    # t = 1\n",
    "    states = np.zeros((N, T), dtype=int)\n",
    "    obs = np.zeros((N, T, D))\n",
    "    states[:, 0] = np.random.choice(K, size=N, replace=True, p=pi0)\n",
    "    obs[:, 0, :] = stats.norm.rvs(loc=mu[states[:, 0]], scale=5)\n",
    "    \n",
    "    # t = 2, ..., T\n",
    "    for n in xrange(N):\n",
    "        for t in xrange(1, T):\n",
    "            states[n, t] = np.random.choice(K, p=pi[states[n, t-1]])\n",
    "            obs[n, t, :] = stats.norm.rvs(loc=mu[states[n, t]], scale=5)\n",
    "    \n",
    "    return states, obs, mu"
   ]
  },
  {
   "cell_type": "code",
   "execution_count": null,
   "metadata": {
    "collapsed": true
   },
   "outputs": [],
   "source": [
    "N, T, K, D = 100, 10, 5, 2\n",
    "states, obs, mu = sample_hmm(N, T, K, D)"
   ]
  },
  {
   "cell_type": "code",
   "execution_count": null,
   "metadata": {
    "collapsed": true
   },
   "outputs": [],
   "source": [
    "X = obs.reshape((N*T, D))\n",
    "doc_range = np.arange(0, N*T+1, T)\n",
    "dataset = bnpy.data.GroupXData(X, doc_range)"
   ]
  },
  {
   "cell_type": "code",
   "execution_count": null,
   "metadata": {
    "collapsed": true
   },
   "outputs": [],
   "source": [
    "plt_data = obs.reshape((-1, D))\n",
    "pylab.scatter(plt_data[:, 0], plt_data[:, 1], c=states.reshape(-1))"
   ]
  },
  {
   "cell_type": "code",
   "execution_count": null,
   "metadata": {
    "collapsed": true
   },
   "outputs": [],
   "source": [
    "# Find best seed for random init\n",
    "dense_toy_mdls = []\n",
    "dense_toy_infos = []\n",
    "for seed in xrange(5):\n",
    "    dense_toy_mdl, dense_toy_info = bnpy.run(\n",
    "        dataset,\n",
    "        'FiniteHMM', 'DiagGauss', 'VB',\n",
    "        K=K, output_path=('/tmp/mocap6/viterbi-K=%d' % (K)),\n",
    "        initname='randexamples', taskID=seed,\n",
    "        convergeThr=1e-6, nLap=100, printEvery=25)\n",
    "    \n",
    "    dense_toy_mdls.append(dense_toy_mdl)\n",
    "    dense_toy_infos.append(dense_toy_info)\n",
    "    \n",
    "final_losses = [info['loss_history'][-1] for info in dense_toy_infos]\n",
    "print final_losses"
   ]
  },
  {
   "cell_type": "code",
   "execution_count": null,
   "metadata": {
    "collapsed": true
   },
   "outputs": [],
   "source": [
    "best_seed = np.argmin(final_losses)\n",
    "print best_seed\n",
    "dense_toy_mdl = dense_toy_mdls[best_seed]\n",
    "dense_toy_info = dense_toy_infos[best_seed]"
   ]
  },
  {
   "cell_type": "code",
   "execution_count": null,
   "metadata": {
    "collapsed": true
   },
   "outputs": [],
   "source": [
    "viterbi_toy_mdl, viterbi_toy_info = bnpy.run(\n",
    "    dataset,\n",
    "    'FiniteHMM', 'DiagGauss', 'VB',\n",
    "    K=K, output_path=('/tmp/mocap6/viterbi-K=%d' % (K)),\n",
    "    initname='randexamples', taskID=best_seed,\n",
    "    convergeThr=1e-6, nLap=100, printEvery=25, nnzPerRowLP=1)"
   ]
  },
  {
   "cell_type": "code",
   "execution_count": null,
   "metadata": {
    "collapsed": true
   },
   "outputs": [],
   "source": [
    "sparse_toy_mdl, sparse_toy_info = bnpy.run(\n",
    "    dataset,\n",
    "    'FiniteHMM', 'DiagGauss', 'VB',\n",
    "    K=K, output_path=('/tmp/mocap6/viterbi-K=%d' % (K)),\n",
    "    initname='randexamples', taskID=best_seed,\n",
    "    convergeThr=1e-6, nLap=100, printEvery=25, nnzPerRowLP=3)"
   ]
  },
  {
   "cell_type": "code",
   "execution_count": null,
   "metadata": {
    "collapsed": true
   },
   "outputs": [],
   "source": [
    "pylab.figure()\n",
    "markersize = 5\n",
    "pylab.plot(\n",
    "    dense_toy_info['lap_history'],\n",
    "    dense_toy_info['loss_history'], 'bs-',\n",
    "    markersize=markersize,\n",
    "    label='Dense VB')\n",
    "pylab.plot(\n",
    "    sparse_toy_info['lap_history'],\n",
    "    sparse_toy_info['loss_history'], 'ks-',\n",
    "    markersize=markersize,\n",
    "    label='Sparse L=3 VB')\n",
    "pylab.plot(\n",
    "    viterbi_toy_info['lap_history'],\n",
    "    viterbi_toy_info['loss_history'], 'rs-',\n",
    "    markersize=markersize,\n",
    "    label='Viterbi L=1 VB')\n",
    "\n",
    "pylab.legend(loc='upper right')\n",
    "\n",
    "pylab.xlabel('num. laps')\n",
    "pylab.ylabel('loss: - log p(x)')\n",
    "pylab.draw()\n",
    "pylab.tight_layout()\n",
    "\n",
    "pylab.show()"
   ]
  },
  {
   "cell_type": "code",
   "execution_count": null,
   "metadata": {},
   "outputs": [],
   "source": [
    "# Obtain init and trans matrices\n",
    "pi0_hat = blocked_gauss_model.allocModel.get_init_prob_vector()\n",
    "pi_hat = blocked_gauss_model.allocModel.get_trans_prob_matrix()\n",
    "#pi0_hat_sparse = sparse_toy_mdl.allocModel.get_init_prob_vector()\n",
    "#pi_hat_sparse  = sparse_toy_mdl.allocModel.get_trans_prob_matrix()\n",
    "#pi0_hat_viterbi = viterbi_toy_mdl.allocModel.get_init_prob_vector()\n",
    "#pi_hat_viterbi  = viterbi_toy_mdl.allocModel.get_trans_prob_matrix()"
   ]
  },
  {
   "cell_type": "code",
   "execution_count": null,
   "metadata": {
    "collapsed": true
   },
   "outputs": [],
   "source": [
    "zhat_dense = np.empty_like(states)\n",
    "zhat_sparse = np.empty_like(states)\n",
    "zhat_viterbi = np.empty_like(states)\n",
    "for n in xrange(N):\n",
    "    ll_seq0_dense = dense_toy_mdl.obsModel.calcLogSoftEvMatrix_FromPost(dataset.make_subset([n]))\n",
    "    zhat_dense[n] = bnpy.allocmodel.hmm.HMMUtil.runViterbiAlg(\n",
    "        ll_seq0_dense, np.log(pi0_hat_dense), np.log(pi_hat_dense))\n",
    "    \n",
    "    ll_seq0_sparse = sparse_toy_mdl.obsModel.calcLogSoftEvMatrix_FromPost(dataset.make_subset([n]))\n",
    "    zhat_sparse[n] = bnpy.allocmodel.hmm.HMMUtil.runViterbiAlg(\n",
    "        ll_seq0_sparse, np.log(pi0_hat_sparse), np.log(pi_hat_sparse))\n",
    "    \n",
    "    ll_seq0_viterbi = viterbi_toy_mdl.obsModel.calcLogSoftEvMatrix_FromPost(dataset.make_subset([n]))\n",
    "    zhat_viterbi[n] = bnpy.allocmodel.hmm.HMMUtil.runViterbiAlg(\n",
    "        ll_seq0_viterbi, np.log(pi0_hat_viterbi), np.log(pi_hat_viterbi))"
   ]
  },
  {
   "cell_type": "code",
   "execution_count": null,
   "metadata": {},
   "outputs": [],
   "source": [
    "evidence = blocked_gauss_model.obsModel.calcLogSoftEvMatrix_FromPost(dataset)\n",
    "evidence_compare = np.empty_like(evidence)\n",
    "for i, (start_idx, end_idx) in enumerate(zip(dataset.doc_range[:-1], dataset.doc_range[1:])):\n",
    "    evidence_n = blocked_gauss_model.obsModel.calcLogSoftEvMatrix_FromPost(dataset.make_subset([i]))\n",
    "    evidence_compare[start_idx:end_idx] = evidence_n"
   ]
  },
  {
   "cell_type": "code",
   "execution_count": null,
   "metadata": {},
   "outputs": [],
   "source": [
    "zhat = bnpy.allocmodel.hmm.HMMUtil.runViterbiAlg(evidence, np.log(pi0_hat), np.log(pi_hat))\n",
    "zhat_compare = np.empty_like(zhat)\n",
    "for i, (start_idx, end_idx) in enumerate(zip(dataset.doc_range[:-1], dataset.doc_range[1:])):\n",
    "    zhat[start_idx:end_idx] = bnpy.allocmodel.hmm.HMMUtil.runViterbiAlg(evidence[start_idx:end_idx], np.log(pi0_hat), np.log(pi_hat))"
   ]
  },
  {
   "cell_type": "code",
   "execution_count": null,
   "metadata": {},
   "outputs": [],
   "source": [
    "dataset.X.shape[0]"
   ]
  },
  {
   "cell_type": "code",
   "execution_count": null,
   "metadata": {},
   "outputs": [],
   "source": [
    "zhat = bnpy.allocmodel.hmm.HMMUtil.runViterbiAlg(\n",
    "    evidence, np.log(pi0_hat), np.log(pi_hat))\n",
    "zhat.shape"
   ]
  },
  {
   "cell_type": "code",
   "execution_count": null,
   "metadata": {
    "collapsed": true
   },
   "outputs": [],
   "source": [
    "z_dict = {0: 2,\n",
    "          1: 3,\n",
    "          2: 4,\n",
    "          3: 0,\n",
    "          4: 1}\n",
    "z_matched = np.array([[z_dict[states[n, t]] for t in xrange(T)] for n in xrange(N)])"
   ]
  },
  {
   "cell_type": "code",
   "execution_count": null,
   "metadata": {
    "collapsed": true
   },
   "outputs": [],
   "source": [
    "from matplotlib import pyplot as plt\n",
    "plot_ids = np.random.choice(N, replace=True, size=5)\n",
    "for n in plot_ids:\n",
    "    fig, ax = plt.subplots()\n",
    "    im = ax.imshow(np.array([z_matched[n], zhat_dense[n], zhat_sparse[n], zhat_viterbi[n]]))\n",
    "    ax.set_xticks(np.arange(T))\n",
    "    ax.set_yticks(np.arange(4))\n",
    "    ax.set_yticklabels(['true states',\n",
    "                        'predicted states - dense',\n",
    "                        'predicted states - sparse L=3',\n",
    "                        'predicted states - Viterbi L=1'])\n",
    "    ax.set_xlabel('t')"
   ]
  },
  {
   "cell_type": "code",
   "execution_count": null,
   "metadata": {
    "collapsed": true
   },
   "outputs": [],
   "source": [
    "print np.mean(zhat_dense == zhat_viterbi)\n",
    "print np.mean(zhat_dense == zhat_sparse)"
   ]
  },
  {
   "cell_type": "code",
   "execution_count": null,
   "metadata": {
    "collapsed": true
   },
   "outputs": [],
   "source": [
    "bnpy.viz.PlotComps.plotCompsFromHModel(\n",
    "    dense_toy_mdl,\n",
    "    dataset=dataset,\n",
    "    )"
   ]
  },
  {
   "cell_type": "code",
   "execution_count": null,
   "metadata": {
    "collapsed": true
   },
   "outputs": [],
   "source": [
    "bnpy.viz.PlotComps.plotCompsFromHModel(\n",
    "    sparse_toy_mdl,\n",
    "    dataset=dataset,\n",
    "    )"
   ]
  },
  {
   "cell_type": "code",
   "execution_count": null,
   "metadata": {
    "collapsed": true
   },
   "outputs": [],
   "source": [
    "bnpy.viz.PlotComps.plotCompsFromHModel(\n",
    "    viterbi_toy_mdl,\n",
    "    dataset=dataset,\n",
    "    )"
   ]
  },
  {
   "cell_type": "code",
   "execution_count": null,
   "metadata": {
    "collapsed": true
   },
   "outputs": [],
   "source": [
    "def show_single_sequence(\n",
    "        seq_id,\n",
    "        zhat_T=None,\n",
    "        z_img_cmap=None,\n",
    "        ylim=[-120, 120],\n",
    "        K=5,\n",
    "        left=0.2, bottom=0.2, right=0.8, top=0.95):\n",
    "    if z_img_cmap is None:\n",
    "        z_img_cmap = {0: 'red', 1: 'green', 2: 'orange', 3: 'brown', 4: 'gray'} #matplotlib.cm.get_cmap('Set1', K)\n",
    "\n",
    "    if zhat_T is None:\n",
    "        nrows = 1\n",
    "    else:\n",
    "        nrows = 2\n",
    "    fig_h, ax_handles = pylab.subplots(\n",
    "        nrows=nrows, ncols=1, sharex=True, sharey=False)\n",
    "    ax_handles = np.atleast_1d(ax_handles).flatten().tolist()\n",
    "\n",
    "    start = dataset.doc_range[seq_id]\n",
    "    stop = dataset.doc_range[seq_id + 1]\n",
    "    # Extract current sequence\n",
    "    # as a 2D array : T x D (n_timesteps x n_dims)\n",
    "    curX_TD = dataset.X[start:stop]\n",
    "    for dim in xrange(D):\n",
    "        ax_handles[0].plot(curX_TD[:, dim], '.-')\n",
    "    ax_handles[0].set_ylabel('angle')\n",
    "    ax_handles[0].set_ylim(ylim)\n",
    "    z_img_height = int(np.ceil(ylim[1] - ylim[0]))\n",
    "    pylab.subplots_adjust(\n",
    "        wspace=0.1,\n",
    "        hspace=0.1,\n",
    "        left=left, right=right,\n",
    "        bottom=bottom, top=top)\n",
    "    if zhat_T is not None:\n",
    "        img_TD = np.tile(zhat_T, (z_img_height, 1))\n",
    "        ax_handles[1].imshow(\n",
    "            img_TD,\n",
    "            interpolation='nearest',\n",
    "            vmin=-0.5, vmax=(K-1)+0.5,\n",
    "            cmap=z_img_cmap)\n",
    "        ax_handles[1].set_ylim(0, z_img_height)\n",
    "        ax_handles[1].set_yticks([])\n",
    "\n",
    "        bbox = ax_handles[1].get_position()\n",
    "        width = (1.0 - bbox.x1) / 3\n",
    "        height = bbox.y1 - bbox.y0\n",
    "        cax = fig_h.add_axes([right + 0.01, bottom, width, height])\n",
    "        cbax_h = fig_h.colorbar(\n",
    "            ax_handles[1].images[0], cax=cax, orientation='vertical')\n",
    "        cbax_h.set_ticks(np.arange(K))\n",
    "        cbax_h.set_ticklabels(np.arange(K))\n",
    "        cbax_h.ax.tick_params(labelsize=9)\n",
    "\n",
    "    ax_handles[-1].set_xlabel('time')\n",
    "    return ax_handles"
   ]
  },
  {
   "cell_type": "code",
   "execution_count": null,
   "metadata": {
    "collapsed": true
   },
   "outputs": [],
   "source": [
    "show_single_sequence(0, zhat_T=s0_hat_dense, K=K)"
   ]
  },
  {
   "cell_type": "code",
   "execution_count": null,
   "metadata": {
    "collapsed": true
   },
   "outputs": [],
   "source": [
    "show_single_sequence(0, zhat_T=s0_hat_sparse, K=K)"
   ]
  },
  {
   "cell_type": "code",
   "execution_count": null,
   "metadata": {
    "collapsed": true
   },
   "outputs": [],
   "source": [
    "show_single_sequence(0, zhat_T=s0, K=K)"
   ]
  },
  {
   "cell_type": "code",
   "execution_count": null,
   "metadata": {
    "collapsed": true
   },
   "outputs": [],
   "source": [
    "states_comp = np.array([s0_matched, s0_hat_dense, s0_hat_sparse])"
   ]
  },
  {
   "cell_type": "code",
   "execution_count": null,
   "metadata": {
    "collapsed": true
   },
   "outputs": [],
   "source": []
  },
  {
   "cell_type": "code",
   "execution_count": null,
   "metadata": {
    "collapsed": true
   },
   "outputs": [],
   "source": [
    "s0"
   ]
  },
  {
   "cell_type": "code",
   "execution_count": null,
   "metadata": {
    "collapsed": true
   },
   "outputs": [],
   "source": [
    "s0_hat_dense"
   ]
  },
  {
   "cell_type": "code",
   "execution_count": null,
   "metadata": {
    "collapsed": true
   },
   "outputs": [],
   "source": []
  },
  {
   "cell_type": "code",
   "execution_count": null,
   "metadata": {
    "collapsed": true
   },
   "outputs": [],
   "source": [
    "s0_matched = [s0_dict[x] for x in s0]"
   ]
  },
  {
   "cell_type": "code",
   "execution_count": null,
   "metadata": {
    "collapsed": true
   },
   "outputs": [],
   "source": [
    "SMALL_FIG_SIZE = (2, 2)\n",
    "def show_many_random_initial_models(\n",
    "        obsPriorArgsDict,\n",
    "        initArgsDict,\n",
    "        nrows=1, ncols=6):\n",
    "    ''' Create plot of many different random initializations\n",
    "    '''\n",
    "    fig_handle, ax_handle_list = pylab.subplots(\n",
    "        figsize=(SMALL_FIG_SIZE[0] * ncols, SMALL_FIG_SIZE[1] * nrows),\n",
    "        nrows=nrows, ncols=ncols, sharex=True, sharey=True)\n",
    "    for trial_id in range(nrows * ncols):\n",
    "        cur_model = bnpy.make_initialized_model(\n",
    "            dataset,\n",
    "            allocModelName='FiniteMixtureModel',\n",
    "            obsModelName='Gauss',\n",
    "            algName='VB',\n",
    "            allocPriorArgsDict=dict(gamma=10.0),\n",
    "            obsPriorArgsDict=obsPriorArgsDict,\n",
    "            initArgsDict=initArgsDict,\n",
    "            seed=int(trial_id),\n",
    "            )\n",
    "        # Plot the current model\n",
    "        cur_ax_handle = ax_handle_list.flatten()[trial_id]\n",
    "        bnpy.viz.PlotComps.plotCompsFromHModel(\n",
    "            cur_model, Data=dataset, ax_handle=cur_ax_handle)\n",
    "        cur_ax_handle.set_xticks([-2, -1, 0, 1, 2])\n",
    "        cur_ax_handle.set_yticks([-2, -1, 0, 1, 2])\n",
    "    pylab.tight_layout()\n",
    "show_many_random_initial_models(\n",
    "    dict(sF=0.01, ECovMat='eye'),\n",
    "    dict(initname='randexamples', K=8))"
   ]
  },
  {
   "cell_type": "code",
   "execution_count": null,
   "metadata": {
    "collapsed": true
   },
   "outputs": [],
   "source": [
    "cur_model = bnpy.make_initialized_model(\n",
    "            dataset,\n",
    "            allocModelName='FiniteMixtureModel',\n",
    "            obsModelName='Gauss',\n",
    "            algName='VB',\n",
    "            allocPriorArgsDict=dict(gamma=10.0),\n",
    "            obsPriorArgsDict=obsPriorArgsDict,\n",
    "            initArgsDict=initArgsDict,\n",
    "            seed=int(trial_id),\n",
    "            )"
   ]
  },
  {
   "cell_type": "code",
   "execution_count": null,
   "metadata": {
    "collapsed": true
   },
   "outputs": [],
   "source": [
    "dataset.X.shape"
   ]
  },
  {
   "cell_type": "code",
   "execution_count": null,
   "metadata": {
    "collapsed": true
   },
   "outputs": [],
   "source": [
    "dataset.Xprev.shape"
   ]
  },
  {
   "cell_type": "code",
   "execution_count": null,
   "metadata": {
    "collapsed": true
   },
   "outputs": [],
   "source": [
    "dataset.X[:2], dataset.X[380:384]"
   ]
  },
  {
   "cell_type": "code",
   "execution_count": null,
   "metadata": {
    "collapsed": true
   },
   "outputs": [],
   "source": [
    "dataset.Xprev[:2], dataset.Xprev[380:384]"
   ]
  },
  {
   "cell_type": "code",
   "execution_count": null,
   "metadata": {
    "collapsed": true
   },
   "outputs": [],
   "source": [
    "([ -1.7  ,  -0.151,   0.372,   2.225,  -8.61 , -38.015,  10.09 ,\n",
    "         -25.724,  29.912, -18.158,  30.354, -17.552]))"
   ]
  },
  {
   "cell_type": "code",
   "execution_count": null,
   "metadata": {
    "collapsed": true
   },
   "outputs": [],
   "source": [
    "dataset.doc_range"
   ]
  },
  {
   "cell_type": "code",
   "execution_count": null,
   "metadata": {},
   "outputs": [],
   "source": [
    "viterbi_gauss_info_dict"
   ]
  },
  {
   "cell_type": "code",
   "execution_count": null,
   "metadata": {},
   "outputs": [],
   "source": [
    "(viterbi_gauss_info_dict['lap_history'])"
   ]
  },
  {
   "cell_type": "code",
   "execution_count": null,
   "metadata": {
    "collapsed": true
   },
   "outputs": [],
   "source": [
    "jobpath = '/tmp/mocap6/viterbi-K=20'"
   ]
  },
  {
   "cell_type": "code",
   "execution_count": null,
   "metadata": {},
   "outputs": [],
   "source": [
    "from bnpy.viz.PlotTrace import *\n",
    "plot_all_tasks_for_job(jobpath, 'some label', yvar='hamming-distance')"
   ]
  },
  {
   "cell_type": "code",
   "execution_count": null,
   "metadata": {},
   "outputs": [],
   "source": [
    "task_output_path = blocked_gauss_info_dict['task_output_path']\n",
    "lap_vals = blocked_gauss_info_dict['lap_history']\n",
    "for lap_val in lap_vals:\n",
    "    cur_model, lap_val = bnpy.load_model_at_lap(task_output_path, lap_val)\n",
    "    print lap_val"
   ]
  },
  {
   "cell_type": "code",
   "execution_count": null,
   "metadata": {},
   "outputs": [],
   "source": [
    "type(viterbi_gauss_info_dict['lap_history'][0])"
   ]
  },
  {
   "cell_type": "code",
   "execution_count": null,
   "metadata": {},
   "outputs": [],
   "source": [
    "tmp = np.empty_like(viterbi_gauss_info_dict['lap_history'], dtype=float)"
   ]
  },
  {
   "cell_type": "code",
   "execution_count": null,
   "metadata": {},
   "outputs": [],
   "source": [
    "for lap in viterbi_gauss_info_dict['lap_history']:\n",
    "    tmp[lap-1] = 3"
   ]
  },
  {
   "cell_type": "code",
   "execution_count": null,
   "metadata": {},
   "outputs": [],
   "source": [
    "tmp"
   ]
  },
  {
   "cell_type": "code",
   "execution_count": null,
   "metadata": {},
   "outputs": [],
   "source": [
    "bnpy.load_model_at_lap(task_output_path, lap_val)"
   ]
  },
  {
   "cell_type": "code",
   "execution_count": null,
   "metadata": {},
   "outputs": [],
   "source": [
    "dataset.TrueParams"
   ]
  },
  {
   "cell_type": "code",
   "execution_count": null,
   "metadata": {},
   "outputs": [],
   "source": [
    "dataset.X.shape"
   ]
  },
  {
   "cell_type": "code",
   "execution_count": null,
   "metadata": {
    "collapsed": true
   },
   "outputs": [],
   "source": [
    "dataset_path1 = os.path.join(bnpy.DATASET_PATH, 'raw_data', 'MoCap6.mat')\n",
    "dataset1 = bnpy.data.GroupXData.read_mat(dataset_path1)"
   ]
  },
  {
   "cell_type": "code",
   "execution_count": null,
   "metadata": {},
   "outputs": [],
   "source": [
    "print dataset1.X.shape\n",
    "print dataset1.TrueParams['K']\n",
    "print dataset1.TrueParams['Z'].shape\n",
    "print np.unique(dataset1.TrueParams['Z'])"
   ]
  },
  {
   "cell_type": "code",
   "execution_count": null,
   "metadata": {},
   "outputs": [],
   "source": [
    "np.allclose(dataset1.X[:10], dataset.X[:10])"
   ]
  },
  {
   "cell_type": "code",
   "execution_count": null,
   "metadata": {},
   "outputs": [],
   "source": [
    "np.all(np.abs(dataset.X[:10] - dataset1.X[:10]) <= 1e-6)"
   ]
  },
  {
   "cell_type": "code",
   "execution_count": null,
   "metadata": {},
   "outputs": [],
   "source": [
    "print dataset.X.shape\n",
    "print dataset.TrueParams['K']\n",
    "print dataset.TrueParams['Z'].shape\n",
    "print np.unique(dataset.TrueParams['Z'])"
   ]
  },
  {
   "cell_type": "code",
   "execution_count": null,
   "metadata": {},
   "outputs": [],
   "source": [
    "dataset1.doc_range"
   ]
  },
  {
   "cell_type": "code",
   "execution_count": null,
   "metadata": {},
   "outputs": [],
   "source": [
    "np.unique(dataset1.TrueParams['Z'][:382])"
   ]
  },
  {
   "cell_type": "code",
   "execution_count": null,
   "metadata": {},
   "outputs": [],
   "source": [
    "import util\n",
    "util.plot_hamming(dataset, blocked_gauss_info_dict)"
   ]
  },
  {
   "cell_type": "code",
   "execution_count": null,
   "metadata": {},
   "outputs": [],
   "source": [
    "blocked_gauss_info_dict['ReqArgs']['OutputPrefs'] == blocked_gauss_info_dict['KwArgs']['OutputPrefs']"
   ]
  },
  {
   "cell_type": "code",
   "execution_count": null,
   "metadata": {},
   "outputs": [],
   "source": [
    "dense_gauss_info_dict['ReqArgs']['OutputPrefs']"
   ]
  },
  {
   "cell_type": "code",
   "execution_count": null,
   "metadata": {},
   "outputs": [],
   "source": [
    "dense_gauss_info_dict['task_output_path'].split('/')[-1]"
   ]
  },
  {
   "cell_type": "code",
   "execution_count": 8,
   "metadata": {},
   "outputs": [
    {
     "ename": "NameError",
     "evalue": "name 'dense_gauss_info_dict' is not defined",
     "output_type": "error",
     "traceback": [
      "\u001b[0;31m---------------------------------------------------------------------------\u001b[0m",
      "\u001b[0;31mNameError\u001b[0m                                 Traceback (most recent call last)",
      "\u001b[0;32m<ipython-input-8-d9ce75f81162>\u001b[0m in \u001b[0;36m<module>\u001b[0;34m()\u001b[0m\n\u001b[0;32m----> 1\u001b[0;31m \u001b[0mdense_gauss_info_dict\u001b[0m\u001b[0;34m[\u001b[0m\u001b[0;34m'KwArgs'\u001b[0m\u001b[0;34m]\u001b[0m\u001b[0;34m[\u001b[0m\u001b[0;34m'OutputPrefs'\u001b[0m\u001b[0;34m]\u001b[0m\u001b[0;34m\u001b[0m\u001b[0m\n\u001b[0m",
      "\u001b[0;31mNameError\u001b[0m: name 'dense_gauss_info_dict' is not defined"
     ]
    }
   ],
   "source": [
    "dense_gauss_info_dict['KwArgs']['OutputPrefs']"
   ]
  },
  {
   "cell_type": "code",
   "execution_count": 7,
   "metadata": {},
   "outputs": [
    {
     "data": {
      "text/plain": [
       "'out_path/sparse-L=3'"
      ]
     },
     "execution_count": 7,
     "metadata": {},
     "output_type": "execute_result"
    }
   ],
   "source": [
    "'/'.join(('out_path', 'sparse-L=%d' % L))"
   ]
  },
  {
   "cell_type": "code",
   "execution_count": null,
   "metadata": {
    "collapsed": true
   },
   "outputs": [],
   "source": []
  }
 ],
 "metadata": {
  "kernelspec": {
   "display_name": "Python 2",
   "language": "python",
   "name": "python2"
  },
  "language_info": {
   "codemirror_mode": {
    "name": "ipython",
    "version": 2
   },
   "file_extension": ".py",
   "mimetype": "text/x-python",
   "name": "python",
   "nbconvert_exporter": "python",
   "pygments_lexer": "ipython2",
   "version": "2.7.13"
  }
 },
 "nbformat": 4,
 "nbformat_minor": 2
}
